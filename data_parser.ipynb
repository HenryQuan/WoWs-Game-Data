{
 "cells": [
  {
   "cell_type": "code",
   "execution_count": 1,
   "metadata": {
    "tags": [
     "outputPrepend"
    ]
   },
   "outputs": [
    {
     "output_type": "stream",
     "name": "stdout",
     "text": "11046\n"
    }
   ],
   "source": [
    "import json\n",
    "\n",
    "# load everything from json, at least 2GB of ram is needed for this\n",
    "game = {}\n",
    "# all keys inside game params\n",
    "keys = {}\n",
    "with open('tools/GameParams.json', 'r') as j:\n",
    "  game = json.load(j)\n",
    "  keys = game.keys()\n",
    "  # just to make sure something is printed and everything are read\n",
    "  print(len(keys))"
   ]
  },
  {
   "cell_type": "code",
   "execution_count": 2,
   "metadata": {
    "scrolled": true
   },
   "outputs": [],
   "source": [
    "# write json object to disk\n",
    "def writeToJson(json_dict, name):\n",
    "    with open(name, 'w+') as l:\n",
    "        l.write(json.dumps(json_dict))"
   ]
  },
  {
   "cell_type": "code",
   "execution_count": 4,
   "metadata": {},
   "outputs": [],
   "source": [
    "# find keys in object, can be improved to go deep\n",
    "def findKey(name, keys):\n",
    "    temp = []\n",
    "    for key in keys:\n",
    "        if name.lower() in key.lower():\n",
    "            temp.append(key)\n",
    "    print('--- DONE ---')\n",
    "    return temp"
   ]
  },
  {
   "cell_type": "code",
   "execution_count": 13,
   "metadata": {
    "tags": [
     "outputPrepend"
    ]
   },
   "outputs": [
    {
     "output_type": "stream",
     "name": "stdout",
     "text": "--- DONE ---\n4\n5\n5\n5\n4\n5\n4\n4\n4\n5\n4\n5\n4\n4\n5\n4\n4\n5\n5\n5\n"
    }
   ],
   "source": [
    "# Find unique update and their ship\n",
    "unique_upgrades = findKey('Special_Mod', keys)\n",
    "# this adds ship id to legendary upgrade\n",
    "legendary = {}\n",
    "# this add legendary upgrades to ship\n",
    "ship_upgrade = {}\n",
    "# get their id and the ship they belong to\n",
    "for upgrade in unique_upgrades:\n",
    "    temp = game[upgrade]\n",
    "    upgrade_id = temp['id']\n",
    "    upgrade_id_str = str(upgrade_id)\n",
    "    # remember to add slot later\n",
    "    print(temp['slot'])\n",
    "    \n",
    "    legendary[upgrade_id_str] = []\n",
    "    for ship in temp['ships']:\n",
    "        ship_id = game[ship]['id']\n",
    "        ship_id_str = str(ship_id)\n",
    "        \n",
    "        # init\n",
    "        if not ship_id_str in ship:\n",
    "            ship_upgrade[ship_id_str] = {\"upgrades\": []}\n",
    "\n",
    "        # you need to the slot as well\n",
    "        ship_upgrade[ship_id_str][\"upgrades\"].append(upgrade_id)\n",
    "        legendary[upgrade_id_str].append({\"ship_id\": ship_id})\n",
    "\n",
    "with open('legendary_upgrade.json', 'w+') as l:\n",
    "    l.write(json.dumps(legendary))\n",
    "with open('ship_legendary_upgrade.json', 'w+') as l:\n",
    "    l.write(json.dumps(ship_upgrade))\n"
   ]
  },
  {
   "cell_type": "code",
   "execution_count": 59,
   "metadata": {},
   "outputs": [
    {
     "output_type": "stream",
     "name": "stdout",
     "text": "--- DONE ---\n"
    },
    {
     "output_type": "execute_result",
     "data": {
      "text/plain": "['PAD042_Director_Mk37_Mod2',\n 'PAD108_Director_Mk51_mod6',\n 'PAGA013_1in_Mk2_Mod2',\n 'PAGA016_3in50_Mk22_Mod2',\n 'PAGA054_Browning_M2_Mod1',\n 'PAGA055_Browning_M2_Mod2',\n 'PAGM014_5in38_Mk22_Mod10',\n 'PAGM020_8in55_Mk14_Mod1',\n 'PAGM021_8in55_Mk14_Mod2',\n 'PAGM036_5in38_Mk30_Mod0_MS1',\n 'PAGM076_5in38_Mk30_Mod0',\n 'PAGM079_3in50_Mk22_Mod2',\n 'PAGM088_5in38_Mk40_Mod33',\n 'PAGM092_5in38_Mk38_Mod0',\n 'PAGM113_5in38_Mk32_Mod12',\n 'PAGM114_8in50_Mk14_Mod1',\n 'PAGM115_8in50_Mk14_Mod2',\n 'PAGM118_5in51_Mk_7_mod2',\n 'PAGM121_5in51_Mk_7_mod2',\n 'PAGM133_5in51_Mk_7_mod2',\n 'PAGM135_5in38_Mk30_Mod1',\n 'PAGM137_5in38_Mk30_Mod1',\n 'PAGM150_5in38_Mk24_Mod6',\n 'PAGM167_14in40_Model_1909',\n 'PAGM176_5in38_Mk24_Mod11',\n 'PAGS001_5in38_Mk30_Mod0',\n 'PAGS007_5in25_Mk19_Mod6',\n 'PAGS010_5in38_Mk32_Mod12',\n 'PAGS011_5in38_Mk38_Mod0',\n 'PAGS014_5in38_Mk22_Mod10',\n 'PAGS028_5in38_Mk29_Mod0',\n 'PAGS057_5in38_Mk40_Mod33',\n 'PAGS092_5in38_Mk38_Mod0',\n 'PAGS174_5in38_Mk24_Mod11',\n 'PAGS516_5in38_Mk32_Mod12_Azur',\n 'PAGS549_5in38_Mk32_Mod12_HW19',\n 'PAPA029_Shell_152mm_AP_SC_Mk_27_Mod_2',\n 'PAPA030_Shell_152mm_HE_HC_Mark_34_Mod_1',\n 'PAPA051_152mm_HE_HC_Mark_39_Mod_0',\n 'PAPA061_SHELL_152MM_AP_SC_MK_27_MOD_5',\n 'PAPD001_mk6_mod1',\n 'PAPD003_mk6_mod1_shoot',\n 'PAPT006_Bliss_Leavitt_Mk7_mod_5A',\n 'PAPT007_Bliss_Leavitt_Mk7_mod_2A',\n 'PAPT010_Mk_13_mod0A',\n 'PAPT013_Mk_25_mod3A',\n 'PAPT015_Mk8_mod2B',\n 'PAPT016_Mk8_mod3B',\n 'PAPT017_Mk8_mod8',\n 'PAPT018_Mk_15_mod_3',\n 'PAPT020_Bliss_Leavitt_Mk7_mod_0',\n 'PAPT021_Bliss_Leavitt_Mark_9_mod_1b',\n 'PAPT022_Bliss_Leavitt_Mark_9_mod_1',\n 'PAPT024_Mk_14_mod_3',\n 'PAPT025_Mk_14_mod_0',\n 'PAPT026_Mk_16_mod_0',\n 'PAPT027_Mk_16_mod_1',\n 'PAPT029_MK_15_MOD_ATLANTA',\n 'PAPT040_Mk18_mod1_Magnetic',\n 'PAPT910_Mk_13_mod0A_Independence',\n 'PARF048_Radar_Mk13_Mod2',\n 'PAUA521_127_38_MK30_Mod_1',\n 'PAUT402_533_Mark_15_mod_0',\n 'PAUT502_533_Mark_15_mod_3',\n 'PAUT503_533_MARK_15_MOD_3_ATLANTA',\n 'PAUT703_533_Mark_14_mod_3',\n 'PBGA028_Browning_M2_Mod2',\n 'PCEE100_Moderator',\n 'PCM001_MainGun_Mod_I',\n 'PCM002_Torpedo_Mod_I',\n 'PCM003_Airplanes_Mod_I',\n 'PCM004_AirDefense_Mod_I',\n 'PCM005_SecondaryGun_Mod_I',\n 'PCM006_MainGun_Mod_II',\n 'PCM007_Torpedo_Mod_II',\n 'PCM008_FireControl_Mod_I',\n 'PCM009_FlightControl_Mod_I',\n 'PCM010_Airplanes_Mod_II',\n 'PCM011_AirDefense_Mod_II',\n 'PCM012_SecondaryGun_Mod_II',\n 'PCM013_MainGun_Mod_III',\n 'PCM014_Torpedo_Mod_III',\n 'PCM015_FireControl_Mod_II',\n 'PCM016_FlightControl_Mod_II',\n 'PCM017_Airplanes_Mod_III',\n 'PCM018_AirDefense_Mod_III',\n 'PCM019_SecondaryGun_Mod_III',\n 'PCM020_DamageControl_Mod_I',\n 'PCM021_Engine_Mod_I',\n 'PCM022_SteeringGear_Mod_I',\n 'PCM023_DamageControl_Mod_II',\n 'PCM024_Engine_Mod_II',\n 'PCM025_SteeringGear_Mod_II',\n 'PCM026_LookoutStation_Mod_I',\n 'PCM027_ConcealmentMeasures_Mod_I',\n 'PCM028_FireControl_Mod_I_US',\n 'PCM029_FireControl_Mod_II_US',\n 'PCM030_MainWeapon_Mod_I',\n 'PCM031_SecondaryWeapon_Mod_I',\n 'PCM032_PowderMagazine_Mod_I',\n 'PCM033_Guidance_Mod_I',\n 'PCM034_Guidance_Mod_0',\n 'PCM035_SteeringGear_Mod_III',\n 'PCM036_SpeedBooster_Mod_I',\n 'PCM037_SmokeGenerator_Mod_I',\n 'PCM038_Spotter_Mod_I',\n 'PCM039_CrashCrew_Mod_I',\n 'PCM040_AirDefenseDisp_Mod_I',\n 'PCM041_SonarSearch_Mod_I',\n 'PCM042_RLSSearch_Mod_I',\n 'PCM043_Special_Mod_I_Conqueror',\n 'PCM044_Special_Mod_I_Republique',\n 'PCM045_Special_Mod_I_GKurfurst',\n 'PCM046_Special_Mod_I_Yamato',\n 'PCM047_Special_Mod_I_Montana',\n 'PCM048_Special_Mod_I_Zao',\n 'PCM049_Special_Mod_I_Hindenburg',\n 'PCM050_Special_Mod_I_Henri_IV',\n 'PCM051_Special_Mod_I_Minotaur',\n 'PCM052_Special_Mod_I_Des_Moines',\n 'PCM053_Special_Mod_I_Worcester',\n 'PCM054_Special_Mod_I_Moskva',\n 'PCM055_Special_Mod_I_Khabarovsk',\n 'PCM056_Special_Mod_I_Z_52',\n 'PCM057_Special_Mod_I_Shimakaze',\n 'PCM058_Special_Mod_I_Gearing',\n 'PCM059_Special_Mod_I_Yueyang',\n 'PCM060_Special_Mod_I_Grozovoi',\n 'PCM061_Special_Mod_I_Midway',\n 'PCM062_Special_Mod_I_Hakuryu',\n 'PCM063_Fighter_Mod_I',\n 'PCM064_TorpedoBomber_Mod_I',\n 'PCM065_DiveBomber_Mod_I',\n 'PCM066_TorpedoBomber_Mod_II',\n 'PCM067_Fighter_Mod_II',\n 'PCM068_PlaneEngine_Mod_I',\n 'PCM069_Movement_Mod_I',\n 'PCM070_Torpedo_Mod_IV',\n 'PCM071_TorpedoBombs_Mod_I',\n 'PCM072_AbilityWorktimeBoost_Mod_I',\n 'PCM073_AbilityWorktimeBoostCV_Mod_I',\n 'PCM074_AuxiliaryArmament_Mod_I',\n 'PCT102_SpeedBooster_Mod_I',\n 'PCT103_SmokeGenerator_Mod_I',\n 'PCT104_Spotter_Mod_I',\n 'PCT105_CrashCrew_Mod_I',\n 'PCT106_AirDefenseDisp_Mod_I',\n 'PCT107_SonarSearch_Mod_I',\n 'PCT108_RLSSearch_Mod_I',\n 'PCT149_RLSSearch_Mod_I_15_Ouroboros',\n 'PCT150_SonarSearch_Mod_I_15_RDragon',\n 'PCT151_SpeedBooster_Mod_I_15_Wyv',\n 'PCT158_RLSSearch_Mod_I_5_Ouroboros',\n 'PCT159_SonarSearch_Mod_I_5_RDragon',\n 'PCT160_SpeedBooster_Mod_I_5_Wyv',\n 'PCZC089_Yamamoto_G4M1_Model_11_Betty',\n 'PFGM067_138_6mm55_Model_1934',\n 'PGF022_FuMO27_Dir_Mod2',\n 'PHGM001_Bofors_120mm50_model_1950',\n 'PIGA056_Browning_M2_Mod2',\n 'PIGA061_100mm_50_Mod_OTO',\n 'PIGM048_120_50_Ansaldo_model_1909',\n 'PIGS003_100mm_50_Mod_OTO',\n 'PIPA005_320MM_AP_Model1936',\n 'PIPA006_320MM_HE_Model1936',\n 'PJC004_Catapult_Type2_N1_model12',\n 'PJC503_Catapult_Type2_N1_model12_HW19',\n 'PJD006_Director_Type_95_Mod2',\n 'PJD011_Director_Type_95_Mod3',\n 'PJD013_Director_Type_98_Mod1',\n 'PJD022_Director_Type_95_Mod1',\n 'PJD023_Director_Type_94_Mod2',\n 'PJD025_Director_Type_94_Mod1',\n 'PJD030_Director_Type_95_Mod2',\n 'PJD036_Director_Type_95_Mod3',\n 'PJD080_Director_Type_95_Mod2',\n 'PJD095_Director_Type_95_Mod2',\n 'PJD103_Director_Type94_Mod_5',\n 'PJD107_Director_Type_98_Mod1',\n 'PJD113_Director_Type_95_Mod2_light',\n 'PJD567_Director_Type_94_Mod2_Arpeggio',\n 'PJD568_Director_Type_95_Mod3_Arpeggio',\n 'PJD575_Director_Type_95_Mod2_HSF',\n 'PJD582_Director_Type_95_Mod2_HSF',\n 'PJD583_Director_Type_95_Mod2_HSF',\n 'PJD610_Director_Type_95_Mod3_Red_Arpeggio',\n 'PJF024_Rangefinder_3_5m_Mod2',\n 'PJF041_Rangefinder_4_5m_Mod2',\n 'PJGM063_203mm50_Type_C_RF_mod',\n 'PJGM064_203mm50_Type_C_mod',\n 'PJGM569_203mm50_Type_C_RF_mod_Arpeggio',\n 'PJGM570_203mm50_Type_C_mod_Arpeggio',\n 'PJGM658_203mm50_Type_C_mod_Red_Arpeggio',\n 'PJGS003_127mm40_Type89_Mod_A',\n 'PJGS139_127mm40_Type89_Mod_A3',\n 'PJGS157_127mm40_Type89_Mod_A',\n 'PJGS516_127mm40_Type89_Mod_A_HW19',\n 'PJGS575_127mm40_Type89_Mod_A_HSF',\n 'PJGS577_127mm40_Type89_Mod_A_1_HSF',\n 'PJGS578_127mm40_Type89_Mod_A_2_HSF',\n 'PJGS579_127mm40_Type89_Mod_A_Yamato_HSF',\n 'PJGS580_127mm40_Type89_Mod_A_Yamato_1_HSF',\n 'PJGS581_127mm40_Type89_Mod_A_Yamato_2_HSF',\n 'PJGS582_127mm40_Type89_Mod_A_Yamato_3_HSF',\n 'PJPB001_TYPE99_N6_MOD1',\n 'PJPB002_Type99_N25_Mod1',\n 'PJPT005_Type_91_mod_1',\n 'PJPT008_533mm_Type_44_mod_2',\n 'PJPT013_450mm_Type_42_mod_1',\n 'PJPT014_450mm_Type_44_mod_2',\n 'PJPT017_610mm_Type_8_mod_2',\n 'PJPT018_610mm_Type90_mod_1',\n 'PJPT019_610mm_Type90_mod_2',\n 'PJPT020_610_Type93_model_3',\n 'PJPT021_610_Type93_model_2',\n 'PJPT022_Type_91_mod_1A',\n 'PJPT023_TYPE_94_MOD_2A',\n 'PJPT024_Type_91_mod_2A',\n 'PJUT504_610_TYPE_8_MOD_2_IWAKI',\n 'PJUT694_610_TYPE_90_MOD_1_MYOKO',\n 'PJUT695_610_TYPE_90_MOD_1_HAGURO',\n 'PJUT696_610_TYPE_90_MOD_1_ASHIGARA',\n 'PRGA013_3in50_Mk22_Mod2',\n 'PRGA014_Browning_M2_Mod1',\n 'PRGM102_12in52_mod_1',\n 'PRGM103_12in52_mod_2',\n 'PRGM104_12in52_mod_3',\n 'PRGM127_12in52_mod_1',\n 'PRPA006_Shell_152mm_AP_SC_Mk_27_Mod_2',\n 'PRPA007_Shell_152mm_HE_HC_Mark_34_Mod_1',\n 'PRPA075_406MM_HE_MOD1914',\n 'PRPA076_406MM_AP_MOD1914',\n 'PRPA078_406MM_SAP_MOD1937',\n 'PRPA079_406MM_AP_MOD1937',\n 'PRPA098_406MM_AP_MOD1914BIS',\n 'PRPA099_406MM_HE_MOD1914BIS',\n 'PRPT016_53_39_MOD1',\n 'PRPT020_53_36_MOD2',\n 'PRPT021_53_39_MOD2',\n 'PRPT022_53_39_MOD3',\n 'PWPT004_Torped_M1929_mod1',\n 'PWPT006_Torped_M1943_mod1',\n 'PWPT010_Torped_M1947_mod1',\n 'PWPT011_Torped_M1913_mod1',\n 'PXGM050_5in38_Mk38_Mod0',\n 'PXGM053_5in38_Mk38_Mod0',\n 'PXGS036_5in38_Mk32_Mod12',\n 'PXPB102_Type99_N25_Mod1',\n 'PXPT002_Type_91_mod_1A',\n 'PXPT009_610_Type93_model_2',\n 'PXPT010_Mk_13_mod0A',\n 'PXPT014_610mm_Type90_mod_1',\n 'PXPT018_610mm_Type90_mod_1',\n 'PXPT022_Type_91_mod_1A',\n 'PZD013_Director_Mk37_Mod2',\n 'PZGA029_Browning_M2_Mod2',\n 'PZGM004_5in38_Mk30_Mod0',\n 'PZGM005_5in38_Mk30_Mod1',\n 'PZGM022_5in38_Mk38_Mod0',\n 'PZGM045_5in51_Mk_7_mod2',\n 'PZGM047_5in38_Mk30_Mod0',\n 'PZPT018_MK_15_MOD3_C',\n 'PZPT019_MK_15_MOD3_D',\n 'PZPT020_MK16_MOD1_C',\n 'PZPT021_MK16_MOD1_D']"
     },
     "metadata": {},
     "execution_count": 59
    }
   ],
   "source": [
    "findKey('_mod', keys)"
   ]
  },
  {
   "cell_type": "code",
   "execution_count": 54,
   "metadata": {},
   "outputs": [],
   "source": [
    "writeToJson(game['PIPA041_203MM_55_1924_CS'], 'venezia_sap.json')"
   ]
  },
  {
   "cell_type": "code",
   "execution_count": 53,
   "metadata": {},
   "outputs": [
    {
     "output_type": "execute_result",
     "data": {
      "text/plain": "{'affectedByPTZ': False,\n 'alphaDamage': 5200.0,\n 'alphaPiercingCS': 54.9,\n 'alphaPiercingHE': 0,\n 'ammoType': 'CS',\n 'applyPTZCoeff': False,\n 'bulletAirDrag': 0.234,\n 'bulletAlwaysRicochetAt': 80.0,\n 'bulletCap': True,\n 'bulletCapNormalizeMaxAngle': 45.0,\n 'bulletDetonator': 0.03,\n 'bulletDetonatorSpread': 0.0,\n 'bulletDetonatorThreshold': 25.0,\n 'bulletDiametr': 0.203,\n 'bulletKrupp': 3.0,\n 'bulletMass': 110.5,\n 'bulletPenetrationSpread': 0.0,\n 'bulletRicochetAt': 75.0,\n 'bulletSpeed': 950.0,\n 'bulletUnderwaterDistFactor': 0.8,\n 'bulletUnderwaterPenetrationFactor': 0.9,\n 'bulletWaterDrag': 10.0,\n 'buoyancyToDamageCoeff': {'0': 1.0, '1': 1.0, '2': 0.0, '3': 0.0},\n 'burnProb': -0.5,\n 'costCR': 30,\n 'crewSmokeTexture': 'particles/trails/Trail_smoke_commander_R.dds',\n 'customTrails': {'PAW404_Ovechkin': 'particles/trails/Trail_smoke_commander_B.dds',\n  'PAW405_OvechkinPrem': 'particles/trails/Trail_smoke_commander_B.dds',\n  'PAW406_OvechkinPremHell': 'particles/trails/Trail_smoke_commander_B.dds',\n  'PBW100_Cunningham': 'particles/trails/Trail_smoke_commander_B.dds',\n  'PFW405_Auboyneau': 'particles/trails/Trail_smoke_commander_LB.dds',\n  'PGW103_Lutjens': 'particles/trails/Trail_smoke_commander_R.dds',\n  'PIW101_Sansonetti': 'particles/trails/Trail_smoke_commander_R.dds',\n  'PRW404_Ovechkin': 'particles/trails/Trail_smoke_commander_B.dds',\n  'PRW406_Kuznetsov': 'particles/trails/Trail_smoke_commander_Kuznetsov.dds',\n  'PWW010_Swirski': 'particles/trails/Trail_smoke_commander_B.dds',\n  'default': 'particles/trails/Trail_smoke_commander_R.dds'},\n 'damage': 0.0,\n 'depthSplashRadius': 3.39,\n 'directDamage': 0.0,\n 'floodGeneration': False,\n 'ground': 'particles/onGroundExplosion200.xml',\n 'hatTracerTexture': 'particles/trails/Trail_Shell_Hat_CS_Enemy.dds',\n 'hitDecalSize': 0.4,\n 'id': 4251960048,\n 'index': 'PIPA041',\n 'name': 'PIPA041_203MM_55_1924_CS',\n 'ownHatTracerTexture': 'particles/trails/Trail_Shell_Hat_CS.dds',\n 'ownTracerEffect': '',\n 'ownTracerTexture': 'particles/trails/Trail_Gk_CS.dds',\n 'pointsOfDamage': [[0, 0.33], [0.33, 0.33], [0.3301, 0.165], [1, 0.165]],\n 'projDestroyedEffect': 'particles/Explosion_200_AP_void.xml',\n 'shellGlow': 10.0,\n 'shellLength': 1.6,\n 'shellModelScale': 0.1,\n 'shipDestroyEffect': 'particles/onWaterExplosion127mm.xml',\n 'shotSound': 'GameLogic.Shot.GK.IncomingShell',\n 'smokeAlphaFalloff': 70.0,\n 'smokeOpacity': 0.37,\n 'smokeTexture': 'particles/trails/Trail_smoke.dds',\n 'smokeThickness': 0.2,\n 'smokeTileLength': 22.0,\n 'splashArmorCoeff': 0.0,\n 'splashCubeSize': 0.0,\n 'tracerEffect': '',\n 'tracerLength': 75.0,\n 'tracerOpacity': 1.0,\n 'tracerTexture': 'particles/trails/Trail_Gk_CS_Enemy.dds',\n 'tracerThickness': 0.077,\n 'typeinfo': {'nation': 'Italy', 'species': 'Artillery', 'type': 'Projectile'},\n 'useSpecialShellModel': False,\n 'uwCritical': 0.0,\n 'volume': 0.0,\n 'water': 'particles/onWaterExplosion200mm.xml',\n 'waterRefractionReflectDeltaAngleInterval': [2.0, 6.0]}"
     },
     "metadata": {},
     "execution_count": 53
    }
   ],
   "source": [
    "game['PIPA041_203MM_55_1924_CS']"
   ]
  },
  {
   "cell_type": "code",
   "execution_count": null,
   "metadata": {},
   "outputs": [],
   "source": []
  }
 ],
 "metadata": {
  "kernelspec": {
   "display_name": "Python 3",
   "language": "python",
   "name": "python3"
  },
  "language_info": {
   "codemirror_mode": {
    "name": "ipython",
    "version": 3
   },
   "file_extension": ".py",
   "mimetype": "text/x-python",
   "name": "python",
   "nbconvert_exporter": "python",
   "pygments_lexer": "ipython3",
   "version": "3.7.2-final"
  }
 },
 "nbformat": 4,
 "nbformat_minor": 2
}