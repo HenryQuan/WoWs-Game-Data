{
 "cells": [
  {
   "cell_type": "code",
   "execution_count": null,
   "metadata": {},
   "outputs": [],
   "source": [
    "import json\n",
    "from ap_pen import *"
   ]
  },
  {
   "cell_type": "code",
   "execution_count": null,
   "metadata": {
    "tags": [
     "outputPrepend"
    ]
   },
   "outputs": [],
   "source": [
    "# load everything from json, at least 2GB of ram is needed for this\n",
    "game = {}\n",
    "# all keys inside game params\n",
    "keys = {}\n",
    "with open('tools/GameParams.json', 'r') as j:\n",
    "    game = json.load(j)\n",
    "    keys = game.keys()\n",
    "    # just to make sure something is printed and everything are read\n",
    "    print(len(keys))\n",
    "\n",
    "ships = {}\n",
    "with open('tools/ship_all.json', 'r') as j:\n",
    "    ships = json.load(j)\n",
    "    print(len(ships))\n",
    ""
   ]
  },
  {
   "cell_type": "code",
   "execution_count": null,
   "metadata": {},
   "outputs": [],
   "source": [
    "# write json object to disk\n",
    "def writeToJson(json_dict, name):\n",
    "    with open(name, 'w+') as l:\n",
    "        l.write(json.dumps(sort(json_dict)) + '\\n')\n",
    "\n",
    "# find keys in object, can be improved to go deep\n",
    "def findKey(name, keys):\n",
    "    temp = []\n",
    "    for key in keys:\n",
    "        if name.lower() in key.lower():\n",
    "            temp.append(key)\n",
    "    return temp\n",
    "\n",
    "# find the first object from the dict\n",
    "def findFirstObject(name, dic, rootMode=False):\n",
    "    if isinstance(dic, dict):\n",
    "        for key in dic.keys():\n",
    "            temp = dic[key]\n",
    "            # check if this is the object we want\n",
    "            if name == key:\n",
    "                if rootMode is True:\n",
    "                    return dic\n",
    "                else:\n",
    "                    return temp\n",
    "            result = findFirstObject(name, temp, rootMode)\n",
    "            if result != None:\n",
    "                return result\n",
    "    elif isinstance(dic, list):\n",
    "        # go through the list\n",
    "        for value in dic:\n",
    "            result = findFirstObject(name, value, rootMode)\n",
    "            if result != None:\n",
    "                return result\n",
    "\n",
    "# sort dictionary by keys\n",
    "def sort(d):\n",
    "    if isinstance(d, dict):\n",
    "        return {k : d[k] for k in sorted(d)}\n",
    "    return d"
   ]
  },
  {
   "cell_type": "code",
   "execution_count": null,
   "metadata": {
    "tags": [
     "outputPrepend"
    ]
   },
   "outputs": [],
   "source": [
    "# upgrade, NO LONGER NEEDED\n",
    "def writeUniqueUpgrades():\n",
    "    # Find unique update and their ship\n",
    "    unique_upgrades = findKey('Special_Mod', keys)\n",
    "    # this adds ship id to legendary upgrade\n",
    "    legendary = {}\n",
    "    # this add legendary upgrades to ship\n",
    "    ship_upgrade = {}\n",
    "    # get their id and the ship they belong to\n",
    "    for upgrade in unique_upgrades:\n",
    "        temp = game[upgrade]\n",
    "        upgrade_id = temp['id']\n",
    "        upgrade_id_str = str(upgrade_id)\n",
    "        # remember to add slot later\n",
    "        slot = temp['slot']\n",
    "        \n",
    "        legendary[upgrade_id_str] = []\n",
    "        for ship in temp['ships']:\n",
    "            ship_id = game[ship]['id']\n",
    "            ship_id_str = str(ship_id)\n",
    "            \n",
    "            # init\n",
    "            if not ship_id_str in ship:\n",
    "                ship_upgrade[ship_id_str] = {\"legendary_upgrades\": []}\n",
    "\n",
    "            # you need to the slot as well\n",
    "            ship_upgrade[ship_id_str][\"legendary_upgrades\"].append({\"upgrade_id\": upgrade_id_str, \"slot\": slot})\n",
    "            legendary[upgrade_id_str].append({\"ship_id\": ship_id, \"slot\": slot})\n",
    "\n",
    "    writeToJson(legendary, 'data/legendary_upgrades.json')\n",
    "    writeToJson(ship_upgrade, 'data/ship_legendary_upgrades.json')\n"
   ]
  },
  {
   "cell_type": "code",
   "execution_count": 14,
   "metadata": {},
   "outputs": [
    {
     "output_type": "execute_result",
     "data": {
      "text/plain": "['PCM043_Special_Mod_I_Conqueror',\n 'PCM044_Special_Mod_I_Republique',\n 'PCM045_Special_Mod_I_GKurfurst',\n 'PCM046_Special_Mod_I_Yamato',\n 'PCM047_Special_Mod_I_Montana',\n 'PCM048_Special_Mod_I_Zao',\n 'PCM049_Special_Mod_I_Hindenburg',\n 'PCM050_Special_Mod_I_Henri_IV',\n 'PCM051_Special_Mod_I_Minotaur',\n 'PCM052_Special_Mod_I_Des_Moines',\n 'PCM053_Special_Mod_I_Worcester',\n 'PCM054_Special_Mod_I_Moskva',\n 'PCM055_Special_Mod_I_Khabarovsk',\n 'PCM056_Special_Mod_I_Z_52',\n 'PCM057_Special_Mod_I_Shimakaze',\n 'PCM058_Special_Mod_I_Gearing',\n 'PCM059_Special_Mod_I_Yueyang',\n 'PCM060_Special_Mod_I_Grozovoi',\n 'PCM061_Special_Mod_I_Midway',\n 'PCM062_Special_Mod_I_Hakuryu']"
     },
     "metadata": {},
     "execution_count": 14
    }
   ],
   "source": [
    "# find all keys from data\n",
    "findKey('Special_Mod', keys)"
   ]
  },
  {
   "cell_type": "code",
   "execution_count": null,
   "metadata": {},
   "outputs": [],
   "source": [
    "# save anything to json\n",
    "writeToJson(game['PCM002_Torpedo_Mod_I'], 'PCM002_Torpedo_Mod_I.json')"
   ]
  },
  {
   "cell_type": "code",
   "execution_count": 15,
   "metadata": {},
   "outputs": [
    {
     "output_type": "execute_result",
     "data": {
      "text/plain": "{'AAExtraBubbles': 0,\n 'AANearDamage': 1.0,\n 'AAOuterDamage': 1.0,\n 'ADMaxHP': 1.0,\n 'GMCritProb': 1.0,\n 'GMIdealRadius': 1.0,\n 'GMMaxDist': 1.0,\n 'GMMaxHP': 1.0,\n 'GMRepairTime': 1.0,\n 'GMRotationSpeed': 1.0,\n 'GMShotDelay': 1.0,\n 'GMSigmaCount': 1.0,\n 'GSIdealRadius': 1.0,\n 'GSMaxDist': 1.0,\n 'GSMaxHP': 1.0,\n 'GSShotDelay': 1.0,\n 'GSSigmaCount': 1.0,\n 'GTCritProb': 1.5,\n 'GTMaxHP': 1.0,\n 'GTRepairTime': 1.0,\n 'GTRotationSpeed': 0.2,\n 'GTShotDelay': 0.75,\n 'InnerAADefenseDispExtraBubbles': 0,\n 'PMCritProb': 1.0,\n 'PMDetonationProb': 1.0,\n 'PMRepairTime': 1.0,\n 'SGCritProb': 1.0,\n 'SGRepairTime': 1.0,\n 'SGRudderTime': 1.0,\n 'abilReloadTimeFactor': 1.0,\n 'additionalConsumables': 0,\n 'afterBattleRepair': 1.0,\n 'airDefenseDispReloadMultiplier': 1.0,\n 'airDefenseDispWorkTime': 1.0,\n 'airplanesDiveBombersHealth': 1.0,\n 'airplanesEmptyReturnSpeed': 1.0,\n 'airplanesExtraHangarSize': 0,\n 'airplanesFighterAimingTime': 0,\n 'airplanesFightersHealth': 1.0,\n 'airplanesForsageDuration': 1.0,\n 'airplanesHealth': 1.0,\n 'airplanesSpawnTime': 1.0,\n 'airplanesSpeed': 1.0,\n 'airplanesTorpedoAimingTime': 0,\n 'airplanesTorpedoBombersHealth': 1.0,\n 'airplanesTorpedoSpeedMultiplier': 1.0,\n 'allConsumablesWorkTimeMultiplier': 1.0,\n 'burnChanceFactorBig': 1.0,\n 'burnChanceFactorSmall': 1.0,\n 'burnProb': 1.0,\n 'burnTime': 1.0,\n 'collisionDamageApply': 1.0,\n 'collisionDamageNerf': 1.0,\n 'costCR': 5000000,\n 'costGold': -1,\n 'crashCrewWorkTime': 1.0,\n 'creditsFactor': 1.0,\n 'crewExpFactor': 1.0,\n 'damageCoeffGM': 1.0,\n 'damageCoeffTorpedo': 1.0,\n 'engineBackwardForsageMaxSpeed': 1.0,\n 'engineBackwardForsagePower': 1.0,\n 'engineBackwardUpTime': 1.0,\n 'engineCritProb': 1.0,\n 'engineForwardForsageMaxSpeed': 1.0,\n 'engineForwardForsagePower': 1.0,\n 'engineForwardUpTime': 1.0,\n 'engineRepairTime': 1.0,\n 'excludes': [],\n 'expFactor': 1.0,\n 'floodChanceFactor': 1.0,\n 'floodChanceFactorPlane': 1.0,\n 'floodProb': 1.0,\n 'floodTime': 1.0,\n 'freeExpFactor': 1.0,\n 'group': [],\n 'guaranteedTorpedoVisibilityDistance': 0,\n 'healthPerLevel': 0,\n 'hullHealthCoeff': 1.0,\n 'id': 4234334128,\n 'index': 'PCM057',\n 'invulnerableWorkTime': 1.0,\n 'name': 'PCM057_Special_Mod_I_Shimakaze',\n 'nation': [],\n 'prioritySectorCooldownMultiplier': 1.0,\n 'regenerationHPSpeed': 1.0,\n 'regenerationPlaneRate': 1.0,\n 'rlsSearchWorkTime': 1.0,\n 'scoutWorkTime': 1.0,\n 'shipConsumablesWorkTimeMultiplier': 1.0,\n 'shiplevel': [],\n 'ships': ['PJSD012_Shimakaze_1943'],\n 'shiptype': [],\n 'shootShift': 1.0,\n 'slot': 5,\n 'smokeGeneratorLifeTime': 1.0,\n 'smokeGeneratorWorkTime': 1.0,\n 'sonarSearchWorkTime': 1.0,\n 'speedBoosterWorkTime': 1.0,\n 'speedCoef': 1.0,\n 'squadronConsumablesWorkTimeMultiplier': 1.0,\n 'squadronVisibilityDistCoeff': 1.0,\n 'torpedoRangeCoefficient': 1.0,\n 'torpedoSpeedBonus': 0,\n 'torpedoSpeedMultiplier': 1.0,\n 'trigger1SearchWorkTime': 1.0,\n 'trigger2SearchWorkTime': 1.0,\n 'trigger3SearchWorkTime': 1.0,\n 'trigger4SearchWorkTime': 1.0,\n 'trigger5SearchWorkTime': 1.0,\n 'trigger6SearchWorkTime': 1.0,\n 'type': 3,\n 'typeinfo': {'nation': 'Common', 'species': None, 'type': 'Modernization'},\n 'uwCoeffBonus': 0,\n 'uwCoeffMultiplier': 1.0,\n 'visibilityDistCoeff': 1.0,\n 'visibilityFactor': 1.0,\n 'visibilityFactorByPlane': 1.0,\n 'visibilityFactorInSmoke': 1.0,\n 'visionDistCoeff': 1.0,\n 'visionTorpedoCoeff': 1.0,\n 'visionXRayShipCoeff': 1.0}"
     },
     "metadata": {},
     "execution_count": 15
    }
   ],
   "source": [
    "# preview anything\n",
    "game['PCM057_Special_Mod_I_Shimakaze']"
   ]
  },
  {
   "cell_type": "code",
   "execution_count": null,
   "metadata": {},
   "outputs": [],
   "source": [
    "additional = {}\n",
    "with open('data/ship_additional.json', 'r') as j:\n",
    "    additional = json.load(j)\n",
    "    print(len(additional))"
   ]
  },
  {
   "cell_type": "code",
   "execution_count": null,
   "metadata": {},
   "outputs": [],
   "source": [
    "ship_id = '3760142032'\n",
    "the_ship = additional[ship_id]\n",
    "print(the_ship)\n",
    "get_ap_penetration(the_ship['ap'])"
   ]
  },
  {
   "cell_type": "code",
   "execution_count": null,
   "metadata": {},
   "outputs": [],
   "source": [
    "def retrieveDataFromShip(ship):\n",
    "    temp = {}\n",
    "    # extract permo flages\n",
    "    permoflages = ship['permoflages'].copy()\n",
    "    nativePermoflage = ship['nativePermoflage']\n",
    "    permoflages.append(nativePermoflage)\n",
    "    # we need to get all permoflage_id\n",
    "    permo_ids = []\n",
    "    for permo in permoflages:\n",
    "        if permo != '':\n",
    "            permo_ids.append(game[permo]['id'])\n",
    "    # add it to temp, there is at least one\n",
    "    if len(permo_ids) > 0:\n",
    "        temp['permoflages'] = permo_ids\n",
    "\n",
    "    # extract HE penetration\n",
    "    artillery = findFirstObject('HitLocationArtillery', ship, rootMode=True)\n",
    "    if artillery != None:\n",
    "        ammoList = artillery['ammoList']\n",
    "        he = [x for x in ammoList if '_HE' in x]\n",
    "        # some ships doesn't have HE\n",
    "        if len(he) > 0:\n",
    "            # add it to temp\n",
    "            temp['alphaPiercingHE'] = game[he[0]]['alphaPiercingHE']\n",
    "        # get ap info here as well\n",
    "        ap = [x for x in ammoList if '_AP' in x]\n",
    "        if len(ap) > 0:\n",
    "            saved_info = {}\n",
    "            shell = game[ap[0]]\n",
    "            saved_info['weight'] = shell['bulletMass']\n",
    "            saved_info['diameter'] = shell['bulletDiametr']\n",
    "            saved_info['drag'] = shell['bulletAirDrag']\n",
    "            saved_info['velocity'] = shell['bulletSpeed']\n",
    "            saved_info['krupp'] = shell['bulletKrupp']\n",
    "            temp['ap'] = saved_info\n",
    "\n",
    "    # get sigma\n",
    "    sigma = findFirstObject('ammoPool', ship, rootMode=True)\n",
    "    if sigma != None:\n",
    "        temp['sigma'] = sigma['sigmaCount']\n",
    "\n",
    "    # save consumables\n",
    "    ability = findFirstObject('ShipAbilities', ship)\n",
    "    if ability != None:\n",
    "        temp['consumables'] = []\n",
    "        # append slot and abilities in\n",
    "        for slot in ability:\n",
    "            s = ability[slot]\n",
    "            # x[0] is the name of the consumable\n",
    "            abils = [x for x in s['abils'] if x[0].endswith('Premium')]\n",
    "            o = []\n",
    "            for a in abils:\n",
    "                o.append({'name': a[0], 'type': a[1]})\n",
    "            # o is used to make a list of objects\n",
    "            if len(o) > 0:\n",
    "                # check there is at least one inside, not all ships have 5 consumables\n",
    "                temp['consumables'].append(o)\n",
    "\n",
    "    isPaperShip = ship['isPaperShip']\n",
    "    if (isPaperShip):\n",
    "        temp['isPaperShip'] = isPaperShip\n",
    "    return temp"
   ]
  },
  {
   "cell_type": "code",
   "execution_count": null,
   "metadata": {
    "tags": [
     "outputPrepend",
     "outputPrepend",
     "outputPrepend",
     "outputPrepend",
     "outputPrepend",
     "outputPrepend",
     "outputPrepend",
     "outputPrepend"
    ]
   },
   "outputs": [],
   "source": [
    "# additional data\n",
    "def writeShipAdditional():\n",
    "    # loop through all ship \n",
    "    additional_ship_info = {}\n",
    "    for ship in ships:\n",
    "        ship_str = ships[ship]['ship_id_str']\n",
    "        # it should only has one\n",
    "        additional_ship_info[ship] = retrieveDataFromShip(game[findKey(ship_str, keys)[0]])\n",
    "    writeToJson(additional_ship_info, 'data/ship_additional.json')\n",
    "\n",
    "writeShipAdditional()"
   ]
  },
  {
   "cell_type": "code",
   "execution_count": null,
   "metadata": {},
   "outputs": [],
   "source": [
    "# remove empty strings and any strings with .xml\n",
    "def cleanupConsumables(dic):\n",
    "    if isinstance(dic, dict):\n",
    "        for k in dic.copy().keys():\n",
    "            t = dic[k]\n",
    "            if k == 'typeinfo' or k == 'group':\n",
    "                del dic[k]\n",
    "\n",
    "            if isinstance(t, str):\n",
    "                if t == \"\" or \".xml\" in t:\n",
    "                    del dic[k]\n",
    "            elif isinstance(t, float):\n",
    "                if t == 0.0:\n",
    "                    del dic[k]\n",
    "            elif isinstance(t, int):\n",
    "                if t == -1:\n",
    "                    del dic[k]\n",
    "            elif isinstance(t, list):\n",
    "                if len(t) == 0:\n",
    "                    del dic[k]\n",
    "            else:\n",
    "                cleanupConsumables(t)\n",
    "    elif isinstance(dic, list):            \n",
    "        for e in dic:\n",
    "            cleanupConsumables(e)"
   ]
  },
  {
   "cell_type": "code",
   "execution_count": null,
   "metadata": {
    "tags": [
     "outputPrepend"
    ]
   },
   "outputs": [],
   "source": [
    "# save all consumables into one file and removed entries that are not needed\n",
    "def writeConsumables():\n",
    "    consumables = {}\n",
    "    for ship in ships:\n",
    "        ship_str = ships[ship]['ship_id_str']\n",
    "        the_one = game[findKey(ship_str, keys)[0]]\n",
    "        # find abilities\n",
    "        ability = findFirstObject('ShipAbilities', the_one)\n",
    "        if ability != None:\n",
    "            for slot in ability:\n",
    "                s = ability[slot]\n",
    "                # x[0] is the name of the consumable\n",
    "                abils = [x for x in s['abils'] if x[0].endswith('Premium')]\n",
    "                for a in abils:\n",
    "                    if not a[0] in consumables:\n",
    "                        consumables[a[0]] = game[a[0]]\n",
    "    cleanupConsumables(consumables)\n",
    "    writeToJson(consumables, 'data/consumables.json')\n",
    "    # print out all types for icons\n",
    "    for c in consumables:\n",
    "        t = consumables[c]\n",
    "        one = t[next(iter(t.keys()))]\n",
    "        print(one['consumableType'])"
   ]
  },
  {
   "cell_type": "code",
   "execution_count": null,
   "metadata": {},
   "outputs": [],
   "source": [
    "# long range torpedoes\n",
    "def writeLongTorpedos():\n",
    "    long_torpedos = []\n",
    "    for k in keys:\n",
    "        o = game[k]\n",
    "        if 'planeAmmoType' in o and o['planeAmmoType'] == 'torpedo':\n",
    "            if o['maxDist'] > 399:\n",
    "                dist = o['maxDist'] / 33.35\n",
    "                speed = o['speed'] * 1.05\n",
    "                spotted = o['visibilityFactor']\n",
    "                reaction = spotted * 1000 / 2.6 / speed\n",
    "                long_torpedos.append({'name': o['name'], 'dist': dist, 'speed': speed, 'spotted': spotted, 'reaction': reaction, 'type': o['typeinfo']['nation']})\n",
    "    writeToJson(long_torpedos, 'extra/long_torpedoes.json')\n"
   ]
  },
  {
   "cell_type": "code",
   "execution_count": null,
   "metadata": {
    "tags": [
     "outputPrepend"
    ]
   },
   "outputs": [],
   "source": [
    "# save all commanders and legendary commanders\n",
    "def writeCommanders():\n",
    "    commanders = []\n",
    "    legendary_commanders = []\n",
    "    for key in keys:\n",
    "        if 'CrewPersonality' in game[key]:\n",
    "            crew = game[key]['CrewPersonality']\n",
    "            # get unique and collab\n",
    "            if crew['isUnique'] == True or crew['peculiarity'] != 'default':\n",
    "                commanders.append(key)\n",
    "            if len(game[key]['UniqueSkills'].keys()) > 0:\n",
    "                legendary_commanders.append(key)\n",
    "    writeToJson(commanders, 'data/commanders.json')\n",
    "    writeToJson(legendary_commanders, 'data/legendary_commanders.json')"
   ]
  },
  {
   "cell_type": "code",
   "execution_count": 35,
   "metadata": {},
   "outputs": [],
   "source": [
    "def notEmpty(anything):\n",
    "    return len(anything) > 0\n",
    "\n",
    "def splitFirst(long_string: str):\n",
    "    return long_string.split('_', 1)[0]\n",
    "\n",
    "def writeModernization():\n",
    "    modernization = {}\n",
    "    for key in keys:\n",
    "        curr = game[key]\n",
    "        if 'typeinfo' in curr:\n",
    "            if 'type' in curr['typeinfo']:\n",
    "                if curr['typeinfo']['type'] == 'Modernization':\n",
    "                    # slot is the best way to determine whether this is still available\n",
    "                    if (curr['slot']) > -1:\n",
    "                        modernization[curr['id']] = {\n",
    "                            'slot': curr['slot'],\n",
    "                        }\n",
    "\n",
    "                        # add only if they are not empty to save space\n",
    "                        if notEmpty(curr['nation']):\n",
    "                            modernization[curr['id']]['nation'] = curr['nation']\n",
    "                        if notEmpty(curr['shiplevel']):\n",
    "                            modernization[curr['id']]['shiplevel'] = curr['shiplevel']\n",
    "                        if notEmpty(curr['ships']):\n",
    "                            formatted = list(map(splitFirst, curr['ships']))\n",
    "                            modernization[curr['id']]['ships'] = formatted\n",
    "                        if notEmpty(curr['shiptype']):\n",
    "                            modernization[curr['id']]['shiptype'] = curr['shiptype']\n",
    "    writeToJson(modernization, 'data/modernizations.json')\n",
    "writeModernization()"
   ]
  },
  {
   "cell_type": "code",
   "execution_count": null,
   "metadata": {},
   "outputs": [],
   "source": [
    "# all in one\n",
    "def writeAll():\n",
    "    writeConsumables()\n",
    "    writeShipAdditional()\n",
    "    writeCommanders()\n",
    "    writeModernization()\n",
    "    writeLongTorpedos()\n",
    "\n",
    "def writeExtra():\n",
    "    writeLongTorpedos()\n",
    "\n",
    "writeAll()"
   ]
  },
  {
   "cell_type": "code",
   "execution_count": null,
   "metadata": {
    "tags": [
     "outputPrepend"
    ]
   },
   "outputs": [],
   "source": [
    "def writeOldShips():\n",
    "    old_ships = {}\n",
    "    for key in keys:\n",
    "        if 'group' in game[key]:\n",
    "            # this group are all ships that are removed\n",
    "            if game[key]['group'] == 'preserved':\n",
    "                curr = game[key]\n",
    "                formated_name = ' '.join(curr['name'].split('_')[1:])\n",
    "                old_ships[game[key]['id']] = {'name': formated_name, 'tier': curr['level']}\n",
    "    writeToJson(old_ships, 'data/removed_ships.json')\n",
    "\n",
    "# it doesn't need to update that often\n",
    "writeOldShips()"
   ]
  },
  {
   "cell_type": "code",
   "execution_count": null,
   "metadata": {},
   "outputs": [],
   "source": [
    "def writeBattles():\n",
    "    battles = {}\n",
    "    with open('tools/ship_battles_raw.json', 'r') as j:\n",
    "        battles = json.load(j)\n",
    "\n",
    "    formatted_battles = {}\n",
    "    for ship in battles:\n",
    "        formatted_battles[ship['ship_id']] = ship['battles']\n",
    "        \n",
    "    writeToJson(formatted_battles, 'data/ship_battles.json')\n",
    "\n",
    "writeBattles()"
   ]
  }
 ],
 "metadata": {
  "kernelspec": {
   "display_name": "Python 3.7.2 64-bit",
   "language": "python",
   "name": "python37264bit6b2e48f0bfbd496dbaa07af40c31be9c"
  },
  "language_info": {
   "codemirror_mode": {
    "name": "ipython",
    "version": 3
   },
   "file_extension": ".py",
   "mimetype": "text/x-python",
   "name": "python",
   "nbconvert_exporter": "python",
   "pygments_lexer": "ipython3",
   "version": "3.7.2-final"
  }
 },
 "nbformat": 4,
 "nbformat_minor": 2
}