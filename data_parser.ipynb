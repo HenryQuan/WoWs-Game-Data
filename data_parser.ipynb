{
 "cells": [
  {
   "cell_type": "code",
   "execution_count": null,
   "metadata": {},
   "outputs": [],
   "source": [
    "import json\n",
    ""
   ]
  },
  {
   "cell_type": "code",
   "execution_count": null,
   "metadata": {
    "tags": [
     "outputPrepend"
    ]
   },
   "outputs": [],
   "source": [
    "# load everything from json, at least 2GB of ram is needed for this\n",
    "game = {}\n",
    "# all keys inside game params\n",
    "keys = {}\n",
    "with open('tools/GameParams.json', 'r') as j:\n",
    "    game = json.load(j)\n",
    "    keys = game.keys()\n",
    "    # just to make sure something is printed and everything are read\n",
    "    print(len(keys))\n",
    "\n",
    "ships = {}\n",
    "with open('tools/ship_all.json', 'r') as j:\n",
    "    ships = json.load(j)\n",
    "    print(len(ships))\n",
    ""
   ]
  },
  {
   "cell_type": "code",
   "execution_count": null,
   "metadata": {},
   "outputs": [],
   "source": [
    "# write json object to disk\n",
    "def writeToJson(json_dict, name):\n",
    "    with open(name, 'w+') as l:\n",
    "        l.write(json.dumps(sort(json_dict)) + '\\n')\n",
    "\n",
    "# find keys in object, can be improved to go deep\n",
    "def findKey(name, keys):\n",
    "    temp = []\n",
    "    for key in keys:\n",
    "        if name.lower() in key.lower():\n",
    "            temp.append(key)\n",
    "    return temp\n",
    "\n",
    "# find the first object from the dict\n",
    "def findFirstObject(name, dic, rootMode=False):\n",
    "    if isinstance(dic, dict):\n",
    "        for key in dic.keys():\n",
    "            temp = dic[key]\n",
    "            # check if this is the object we want\n",
    "            if name == key:\n",
    "                if rootMode is True:\n",
    "                    return dic\n",
    "                else:\n",
    "                    return temp\n",
    "            result = findFirstObject(name, temp, rootMode)\n",
    "            if result != None:\n",
    "                return result\n",
    "    elif isinstance(dic, list):\n",
    "        # go through the list\n",
    "        for value in dic:\n",
    "            result = findFirstObject(name, value, rootMode)\n",
    "            if result != None:\n",
    "                return result\n",
    "\n",
    "# sort dictionary by keys\n",
    "def sort(d):\n",
    "    if isinstance(d, dict):\n",
    "        return {k : d[k] for k in sorted(d)}\n",
    "    return d"
   ]
  },
  {
   "cell_type": "code",
   "execution_count": null,
   "metadata": {
    "tags": [
     "outputPrepend"
    ]
   },
   "outputs": [],
   "source": [
    "# upgrade\n",
    "def writeUniqueUpgrades():\n",
    "    # Find unique update and their ship\n",
    "    unique_upgrades = findKey('Special_Mod', keys)\n",
    "    # this adds ship id to legendary upgrade\n",
    "    legendary = {}\n",
    "    # this add legendary upgrades to ship\n",
    "    ship_upgrade = {}\n",
    "    # get their id and the ship they belong to\n",
    "    for upgrade in unique_upgrades:\n",
    "        temp = game[upgrade]\n",
    "        upgrade_id = temp['id']\n",
    "        upgrade_id_str = str(upgrade_id)\n",
    "        # remember to add slot later\n",
    "        slot = temp['slot']\n",
    "        \n",
    "        legendary[upgrade_id_str] = []\n",
    "        for ship in temp['ships']:\n",
    "            ship_id = game[ship]['id']\n",
    "            ship_id_str = str(ship_id)\n",
    "            \n",
    "            # init\n",
    "            if not ship_id_str in ship:\n",
    "                ship_upgrade[ship_id_str] = {\"legendary_upgrades\": []}\n",
    "\n",
    "            # you need to the slot as well\n",
    "            ship_upgrade[ship_id_str][\"legendary_upgrades\"].append({\"upgrade_id\": upgrade_id_str, \"slot\": slot})\n",
    "            legendary[upgrade_id_str].append({\"ship_id\": ship_id, \"slot\": slot})\n",
    "\n",
    "    writeToJson(legendary, 'data/legendary_upgrade.json')\n",
    "    writeToJson(ship_upgrade, 'data/ship_legendary_upgrade.json')\n",
    ""
   ]
  },
  {
   "cell_type": "code",
   "execution_count": null,
   "metadata": {},
   "outputs": [],
   "source": [
    "# find all keys from data\n",
    "findKey('AP', keys)"
   ]
  },
  {
   "cell_type": "code",
   "execution_count": null,
   "metadata": {},
   "outputs": [],
   "source": [
    "# save anything to json\n",
    "writeToJson(game['PAPA072_406MM_AP_MISSOURI'], 'ap_missouri.json')"
   ]
  },
  {
   "cell_type": "code",
   "execution_count": null,
   "metadata": {},
   "outputs": [],
   "source": [
    "# preview anything\n",
    "game['PJPT040_TYPE93_HAYATE']"
   ]
  },
  {
   "cell_type": "code",
   "execution_count": null,
   "metadata": {},
   "outputs": [],
   "source": [
    "def retrieveDataFromShip(ship):\n",
    "    temp = {}\n",
    "    # extract permo flages\n",
    "    permoflages = ship['permoflages'].copy()\n",
    "    nativePermoflage = ship['nativePermoflage']\n",
    "    permoflages.append(nativePermoflage)\n",
    "    # we need to get all permoflage_id\n",
    "    permo_ids = []\n",
    "    for permo in permoflages:\n",
    "        if permo != '':\n",
    "            permo_ids.append(game[permo]['id'])\n",
    "    # add it to temp, there is at least one\n",
    "    if len(permo_ids) > 0:\n",
    "        temp['permoflages'] = permo_ids\n",
    "\n",
    "    # extract HE penetration\n",
    "    artillery = findFirstObject('HitLocationArtillery', ship, rootMode=True)\n",
    "    if artillery != None:\n",
    "        ammoList = artillery['ammoList']\n",
    "        he = [x for x in ammoList if '_HE' in x]\n",
    "        # some ships doesn't have HE\n",
    "        if len(he) > 0:\n",
    "            # add it to temp\n",
    "            temp['alphaPiercingHE'] = game[he[0]]['alphaPiercingHE']\n",
    "        # get ap info here as well\n",
    "        ap = [x for x in ammoList if '_AP' in x]\n",
    "        if len(ap) > 0:\n",
    "            saved_info = {}\n",
    "            shell = game[ap[0]]\n",
    "            saved_info['weight'] = shell['bulletMass']\n",
    "            saved_info['diameter'] = shell['bulletDiametr']\n",
    "            saved_info['drag'] = shell['bulletAirDrag']\n",
    "            saved_info['velocity'] = shell['bulletSpeed']\n",
    "            saved_info['krupp'] = shell['bulletKrupp']\n",
    "            temp['ap'] = saved_info\n",
    "\n",
    "    # get sigma\n",
    "    sigma = findFirstObject('ammoPool', ship, rootMode=True)\n",
    "    if sigma != None:\n",
    "        temp['sigma'] = sigma['sigmaCount']\n",
    "\n",
    "    # save consumables\n",
    "    ability = findFirstObject('ShipAbilities', ship)\n",
    "    if ability != None:\n",
    "        temp['consumables'] = []\n",
    "        # append slot and abilities in\n",
    "        for slot in ability:\n",
    "            s = ability[slot]\n",
    "            # x[0] is the name of the consumable\n",
    "            abils = [x for x in s['abils'] if x[0].endswith('Premium')]\n",
    "            o = []\n",
    "            for a in abils:\n",
    "                o.append({'name': a[0], 'type': a[1]})\n",
    "            # o is used to make a list of objects\n",
    "            if len(o) > 0:\n",
    "                # check there is at least one inside, not all ships have 5 consumables\n",
    "                temp['consumables'].append(o)\n",
    "\n",
    "    return temp"
   ]
  },
  {
   "cell_type": "code",
   "execution_count": null,
   "metadata": {
    "tags": [
     "outputPrepend",
     "outputPrepend",
     "outputPrepend",
     "outputPrepend",
     "outputPrepend",
     "outputPrepend",
     "outputPrepend",
     "outputPrepend"
    ]
   },
   "outputs": [],
   "source": [
    "# additional data\n",
    "def writeShipAdditional():\n",
    "    # loop through all ship \n",
    "    additional_ship_info = {}\n",
    "    for ship in ships:\n",
    "        ship_str = ships[ship]['ship_id_str']\n",
    "        # it should only has one\n",
    "        additional_ship_info[ship] = retrieveDataFromShip(game[findKey(ship_str, keys)[0]])\n",
    "    writeToJson(additional_ship_info, 'data/ship_additional.json')\n",
    "\n",
    "writeShipAdditional()"
   ]
  },
  {
   "cell_type": "code",
   "execution_count": null,
   "metadata": {},
   "outputs": [],
   "source": [
    "# remove empty strings and any strings with .xml\n",
    "def cleanupConsumables(dic):\n",
    "    if isinstance(dic, dict):\n",
    "        for k in dic.copy().keys():\n",
    "            t = dic[k]\n",
    "            if k == 'typeinfo' or k == 'group':\n",
    "                del dic[k]\n",
    "\n",
    "            if isinstance(t, str):\n",
    "                if t == \"\" or \".xml\" in t:\n",
    "                    del dic[k]\n",
    "            elif isinstance(t, float):\n",
    "                if t == 0.0:\n",
    "                    del dic[k]\n",
    "            elif isinstance(t, int):\n",
    "                if t == -1:\n",
    "                    del dic[k]\n",
    "            elif isinstance(t, list):\n",
    "                if len(t) == 0:\n",
    "                    del dic[k]\n",
    "            else:\n",
    "                cleanupConsumables(t)\n",
    "    elif isinstance(dic, list):            \n",
    "        for e in dic:\n",
    "            cleanupConsumables(e)"
   ]
  },
  {
   "cell_type": "code",
   "execution_count": null,
   "metadata": {
    "tags": [
     "outputPrepend"
    ]
   },
   "outputs": [],
   "source": [
    "# save all consumables into one file and removed entries that are not needed\n",
    "def writeConsumables():\n",
    "    consumables = {}\n",
    "    for ship in ships:\n",
    "        ship_str = ships[ship]['ship_id_str']\n",
    "        the_one = game[findKey(ship_str, keys)[0]]\n",
    "        # find abilities\n",
    "        ability = findFirstObject('ShipAbilities', the_one)\n",
    "        if ability != None:\n",
    "            for slot in ability:\n",
    "                s = ability[slot]\n",
    "                # x[0] is the name of the consumable\n",
    "                abils = [x for x in s['abils'] if x[0].endswith('Premium')]\n",
    "                for a in abils:\n",
    "                    if not a[0] in consumables:\n",
    "                        consumables[a[0]] = game[a[0]]\n",
    "    cleanupConsumables(consumables)\n",
    "    writeToJson(consumables, 'data/consumables.json')\n",
    "    # print out all types for icons\n",
    "    for c in consumables:\n",
    "        t = consumables[c]\n",
    "        one = t[next(iter(t.keys()))]\n",
    "        print(one['consumableType'])"
   ]
  },
  {
   "cell_type": "code",
   "execution_count": null,
   "metadata": {},
   "outputs": [],
   "source": [
    "# long range torpedoes\n",
    "def writeLongTorpedos():\n",
    "    long_torpedos = []\n",
    "    for k in keys:\n",
    "        o = game[k]\n",
    "        if 'planeAmmoType' in o and o['planeAmmoType'] == 'torpedo':\n",
    "            if o['maxDist'] > 399:\n",
    "                dist = o['maxDist'] / 33.35\n",
    "                speed = o['speed'] * 1.05\n",
    "                spotted = o['visibilityFactor']\n",
    "                reaction = spotted * 1000 / 2.6 / speed\n",
    "                long_torpedos.append({'name': o['name'], 'dist': dist, 'speed': speed, 'spotted': spotted, 'reaction': reaction, 'type': o['typeinfo']['nation']})\n",
    "    writeToJson(long_torpedos, 'extra/long_torpedoes.json')\n"
   ]
  },
  {
   "cell_type": "code",
   "execution_count": null,
   "metadata": {
    "tags": [
     "outputPrepend"
    ]
   },
   "outputs": [],
   "source": [
    "# save all commanders and legendary commanders\n",
    "def writeCommanders():\n",
    "    commanders = []\n",
    "    legendary_commanders = []\n",
    "    for key in keys:\n",
    "        if 'CrewPersonality' in game[key]:\n",
    "            crew = game[key]['CrewPersonality']\n",
    "            # get unique and collab\n",
    "            if crew['isUnique'] == True or crew['peculiarity'] != 'default':\n",
    "                commanders.append(key)\n",
    "            if len(game[key]['UniqueSkills'].keys()) > 0:\n",
    "                legendary_commanders.append(key)\n",
    "    writeToJson(commanders, 'data/commanders.json')\n",
    "    writeToJson(legendary_commanders, 'data/legendary_commanders.json')"
   ]
  },
  {
   "cell_type": "code",
   "execution_count": null,
   "metadata": {},
   "outputs": [],
   "source": [
    "# all in one\n",
    "def writeAll():\n",
    "    writeConsumables()\n",
    "    writeShipAdditional()\n",
    "    writeCommanders()\n",
    "    writeLongTorpedos()\n",
    "    writeUniqueUpgrades()\n",
    "\n",
    "writeAll()"
   ]
  },
  {
   "cell_type": "code",
   "execution_count": null,
   "metadata": {},
   "outputs": [],
   "source": []
  }
 ],
 "metadata": {
  "kernelspec": {
   "display_name": "Python 3",
   "language": "python",
   "name": "python3"
  },
  "language_info": {
   "codemirror_mode": {
    "name": "ipython",
    "version": 3
   },
   "file_extension": ".py",
   "mimetype": "text/x-python",
   "name": "python",
   "nbconvert_exporter": "python",
   "pygments_lexer": "ipython3",
   "version": "3.7.2-final"
  }
 },
 "nbformat": 4,
 "nbformat_minor": 2
}