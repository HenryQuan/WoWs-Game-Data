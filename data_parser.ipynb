{
 "cells": [
  {
   "cell_type": "code",
   "execution_count": 11,
   "metadata": {
    "tags": [
     "outputPrepend"
    ]
   },
   "outputs": [
    {
     "output_type": "stream",
     "name": "stdout",
     "text": "PAAB001_Douglas_TBD\n"
    }
   ],
   "source": [
    "import json\n",
    "\n",
    "# load everything from json, at least 4GB of ram is needed for this\n",
    "game = {}\n",
    "keys = {}\n",
    "with open('tools/GameParams.json', 'r') as j:\n",
    "  game = json.load(j)\n",
    "  keys = game.keys()\n",
    "  # just to make sure something is printed and everything are read\n",
    "  print(next(iter(keys)))"
   ]
  },
  {
   "cell_type": "code",
   "execution_count": 5,
   "metadata": {
    "scrolled": true
   },
   "outputs": [],
   "source": [
    "# write json object to disk\n",
    "def writeToJson(json_dict, name):\n",
    "    with open(name, 'w+') as l:\n",
    "        l.write(json.dumps(json_dict))"
   ]
  },
  {
   "cell_type": "code",
   "execution_count": 6,
   "metadata": {},
   "outputs": [],
   "source": [
    "# find keys in object, can be improved to go deep\n",
    "def findKey(name, keys):\n",
    "    temp = []\n",
    "    for key in keys:\n",
    "        if name.lower() in key.lower():\n",
    "            temp.append(key)\n",
    "    print('--- DONE ---')\n",
    "    return temp"
   ]
  },
  {
   "cell_type": "code",
   "execution_count": 13,
   "metadata": {
    "tags": [
     "outputPrepend"
    ]
   },
   "outputs": [
    {
     "output_type": "stream",
     "name": "stdout",
     "text": "--- DONE ---\n4\n5\n5\n5\n4\n5\n4\n4\n4\n5\n4\n5\n4\n4\n5\n4\n4\n5\n5\n5\n"
    }
   ],
   "source": [
    "# Find unique update and their ship\n",
    "unique_upgrades = findKey('Special_Mod', keys)\n",
    "# this adds ship id to legendary upgrade\n",
    "legendary = {}\n",
    "# this add legendary upgrades to ship\n",
    "ship_upgrade = {}\n",
    "# get their id and the ship they belong to\n",
    "for upgrade in unique_upgrades:\n",
    "    temp = game[upgrade]\n",
    "    upgrade_id = temp['id']\n",
    "    upgrade_id_str = str(upgrade_id)\n",
    "    # remember to add slot later\n",
    "    print(temp['slot'])\n",
    "    \n",
    "    legendary[upgrade_id_str] = []\n",
    "    for ship in temp['ships']:\n",
    "        ship_id = game[ship]['id']\n",
    "        ship_id_str = str(ship_id)\n",
    "        \n",
    "        # init\n",
    "        if not ship_id_str in ship:\n",
    "            ship_upgrade[ship_id_str] = {\"upgrades\": []}\n",
    "\n",
    "        # you need to the slot as well\n",
    "        ship_upgrade[ship_id_str][\"upgrades\"].append(upgrade_id)\n",
    "        legendary[upgrade_id_str].append({\"ship_id\": ship_id})\n",
    "\n",
    "with open('legendary_upgrade.json', 'w+') as l:\n",
    "    l.write(json.dumps(legendary))\n",
    "with open('ship_legendary_upgrade.json', 'w+') as l:\n",
    "    l.write(json.dumps(ship_upgrade))\n"
   ]
  },
  {
   "cell_type": "code",
   "execution_count": 8,
   "metadata": {},
   "outputs": [
    {
     "output_type": "stream",
     "name": "stdout",
     "text": "--- DONE ---\n"
    },
    {
     "output_type": "execute_result",
     "data": {
      "text/plain": "['PJSD012_Shimakaze_1943']"
     },
     "metadata": {},
     "execution_count": 8
    }
   ],
   "source": [
    "findKey('PJSD012', keys)"
   ]
  },
  {
   "cell_type": "code",
   "execution_count": 9,
   "metadata": {},
   "outputs": [],
   "source": [
    "writeToJson(game['PJSD012_Shimakaze_1943'], 'shima.json')"
   ]
  },
  {
   "cell_type": "code",
   "execution_count": 56,
   "metadata": {},
   "outputs": [
    {
     "data": {
      "text/plain": [
       "{'barrelDiametr': 0,\n",
       " 'costCR': 2500000,\n",
       " 'costXP': 30000,\n",
       " 'damage': 0,\n",
       " 'defense': 0,\n",
       " 'detection': 0,\n",
       " 'durability': 0,\n",
       " 'id': 3345362640,\n",
       " 'index': 'PJUT905',\n",
       " 'maxDist': 0,\n",
       " 'mobility': 0,\n",
       " 'name': 'PJUT905_D10_TORP_TOP',\n",
       " 'numBarrels': 0,\n",
       " 'speed': 0,\n",
       " 'typeinfo': {'nation': 'Japan', 'species': 'TorpedoesUnit', 'type': 'Unit'},\n",
       " 'ucType': '_Torpedoes',\n",
       " 'weaponry': 0}"
      ]
     },
     "execution_count": 56,
     "metadata": {},
     "output_type": "execute_result"
    }
   ],
   "source": [
    "game['PJUT905_D10_TORP_TOP']"
   ]
  },
  {
   "cell_type": "code",
   "execution_count": null,
   "metadata": {},
   "outputs": [],
   "source": []
  }
 ],
 "metadata": {
  "kernelspec": {
   "display_name": "Python 3",
   "language": "python",
   "name": "python3"
  },
  "language_info": {
   "codemirror_mode": {
    "name": "ipython",
    "version": 3
   },
   "file_extension": ".py",
   "mimetype": "text/x-python",
   "name": "python",
   "nbconvert_exporter": "python",
   "pygments_lexer": "ipython3",
   "version": "3.7.2-final"
  }
 },
 "nbformat": 4,
 "nbformat_minor": 2
}