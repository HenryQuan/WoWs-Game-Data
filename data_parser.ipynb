{
 "cells": [
  {
   "cell_type": "code",
   "execution_count": null,
   "metadata": {
    "tags": [
     "outputPrepend"
    ]
   },
   "outputs": [],
   "source": [
    "import json\n",
    "\n",
    "# load everything from json, at least 2GB of ram is needed for this\n",
    "game = {}\n",
    "# all keys inside game params\n",
    "keys = {}\n",
    "with open('tools/GameParams.json', 'r') as j:\n",
    "    game = json.load(j)\n",
    "    keys = game.keys()\n",
    "    # just to make sure something is printed and everything are read\n",
    "    print(len(keys))\n",
    "\n",
    "ships = {}\n",
    "with open('tools/ship_all.json', 'r') as j:\n",
    "    ships = json.load(j)\n",
    "    print(len(ships))\n"
   ]
  },
  {
   "cell_type": "code",
   "execution_count": null,
   "metadata": {
    "scrolled": true
   },
   "outputs": [],
   "source": [
    "# write json object to disk\n",
    "def writeToJson(json_dict, name):\n",
    "    with open(name, 'w+') as l:\n",
    "        l.write(json.dumps(json_dict))"
   ]
  },
  {
   "cell_type": "code",
   "execution_count": null,
   "metadata": {},
   "outputs": [],
   "source": [
    "# find keys in object, can be improved to go deep\n",
    "def findKey(name, keys):\n",
    "    temp = []\n",
    "    for key in keys:\n",
    "        if name.lower() in key.lower():\n",
    "            temp.append(key)\n",
    "    return temp"
   ]
  },
  {
   "cell_type": "code",
   "execution_count": null,
   "metadata": {
    "tags": [
     "outputPrepend"
    ]
   },
   "outputs": [],
   "source": [
    "# Find unique update and their ship\n",
    "unique_upgrades = findKey('Special_Mod', keys)\n",
    "# this adds ship id to legendary upgrade\n",
    "legendary = {}\n",
    "# this add legendary upgrades to ship\n",
    "ship_upgrade = {}\n",
    "# get their id and the ship they belong to\n",
    "for upgrade in unique_upgrades:\n",
    "    temp = game[upgrade]\n",
    "    upgrade_id = temp['id']\n",
    "    upgrade_id_str = str(upgrade_id)\n",
    "    # remember to add slot later\n",
    "    slot = temp['slot']\n",
    "    \n",
    "    legendary[upgrade_id_str] = []\n",
    "    for ship in temp['ships']:\n",
    "        ship_id = game[ship]['id']\n",
    "        ship_id_str = str(ship_id)\n",
    "        \n",
    "        # init\n",
    "        if not ship_id_str in ship:\n",
    "            ship_upgrade[ship_id_str] = {\"legendary_upgrades\": []}\n",
    "\n",
    "        # you need to the slot as well\n",
    "        ship_upgrade[ship_id_str][\"legendary_upgrades\"].append({\"upgrade_id\": upgrade_id_str, \"slot\": slot})\n",
    "        legendary[upgrade_id_str].append({\"ship_id\": ship_id, \"slot\": slot})\n",
    "\n",
    "writeToJson(legendary, 'legendary_upgrade.json')\n",
    "writeToJson(ship_upgrade, 'ship_legendary_upgrade.json')\n"
   ]
  },
  {
   "cell_type": "code",
   "execution_count": null,
   "metadata": {},
   "outputs": [],
   "source": [
    "findKey('PASB518', keys)"
   ]
  },
  {
   "cell_type": "code",
   "execution_count": null,
   "metadata": {},
   "outputs": [],
   "source": [
    "writeToJson(game['PIPA041_203MM_55_1924_CS'], 'venezia_sap.json')"
   ]
  },
  {
   "cell_type": "code",
   "execution_count": null,
   "metadata": {},
   "outputs": [],
   "source": [
    "game['PCEM004_Halloween19_10lvl']"
   ]
  },
  {
   "cell_type": "code",
   "execution_count": null,
   "metadata": {},
   "outputs": [],
   "source": [
    "def retrieveDataFromShip(ship):\n",
    "    temp = {}\n",
    "    permoflages = ship['permoflages']\n",
    "    nativePermoflage = ship['nativePermoflage']\n",
    "    permoflages.append(nativePermoflage)\n",
    "    # we need to get all permoflage_id\n",
    "    permo_ids = []\n",
    "    for permo in permoflages:\n",
    "        if permo != '':\n",
    "            permo_ids.append(game[permo]['id'])\n",
    "    # add it to temp\n",
    "    temp['permoflages'] = permo_ids\n",
    "    return temp"
   ]
  },
  {
   "cell_type": "code",
   "execution_count": null,
   "metadata": {
    "tags": [
     "outputPrepend"
    ]
   },
   "outputs": [],
   "source": [
    "# loop through all ship \n",
    "additional_ship_info = {}\n",
    "for ship in ships:\n",
    "    ship_str = ships[ship]['ship_id_str']\n",
    "    # it should only has one\n",
    "    additional_ship_info[ship] = retrieveDataFromShip(game[findKey(ship_str, keys)[0]])\n",
    "writeToJson(additional_ship_info, 'ship_additional.json')\n"
   ]
  },
  {
   "cell_type": "code",
   "execution_count": null,
   "metadata": {},
   "outputs": [],
   "source": []
  }
 ],
 "metadata": {
  "kernelspec": {
   "display_name": "Python 3",
   "language": "python",
   "name": "python3"
  },
  "language_info": {
   "codemirror_mode": {
    "name": "ipython",
    "version": 3
   },
   "file_extension": ".py",
   "mimetype": "text/x-python",
   "name": "python",
   "nbconvert_exporter": "python",
   "pygments_lexer": "ipython3",
   "version": "3.7.2-final"
  }
 },
 "nbformat": 4,
 "nbformat_minor": 2
}