{
 "cells": [
  {
   "cell_type": "code",
   "execution_count": 1,
   "metadata": {
    "tags": [
     "outputPrepend"
    ]
   },
   "outputs": [
    {
     "output_type": "stream",
     "name": "stdout",
     "text": "11046\n"
    }
   ],
   "source": [
    "import json\n",
    "\n",
    "# load everything from json, at least 2GB of ram is needed for this\n",
    "game = {}\n",
    "# all keys inside game params\n",
    "keys = {}\n",
    "with open('tools/GameParams.json', 'r') as j:\n",
    "  game = json.load(j)\n",
    "  keys = game.keys()\n",
    "  # just to make sure something is printed and everything are read\n",
    "  print(len(keys))"
   ]
  },
  {
   "cell_type": "code",
   "execution_count": 2,
   "metadata": {
    "scrolled": true
   },
   "outputs": [],
   "source": [
    "# write json object to disk\n",
    "def writeToJson(json_dict, name):\n",
    "    with open(name, 'w+') as l:\n",
    "        l.write(json.dumps(json_dict))"
   ]
  },
  {
   "cell_type": "code",
   "execution_count": 4,
   "metadata": {},
   "outputs": [],
   "source": [
    "# find keys in object, can be improved to go deep\n",
    "def findKey(name, keys):\n",
    "    temp = []\n",
    "    for key in keys:\n",
    "        if name.lower() in key.lower():\n",
    "            temp.append(key)\n",
    "    print('--- DONE ---')\n",
    "    return temp"
   ]
  },
  {
   "cell_type": "code",
   "execution_count": 13,
   "metadata": {
    "tags": [
     "outputPrepend"
    ]
   },
   "outputs": [
    {
     "output_type": "stream",
     "name": "stdout",
     "text": "--- DONE ---\n4\n5\n5\n5\n4\n5\n4\n4\n4\n5\n4\n5\n4\n4\n5\n4\n4\n5\n5\n5\n"
    }
   ],
   "source": [
    "# Find unique update and their ship\n",
    "unique_upgrades = findKey('Special_Mod', keys)\n",
    "# this adds ship id to legendary upgrade\n",
    "legendary = {}\n",
    "# this add legendary upgrades to ship\n",
    "ship_upgrade = {}\n",
    "# get their id and the ship they belong to\n",
    "for upgrade in unique_upgrades:\n",
    "    temp = game[upgrade]\n",
    "    upgrade_id = temp['id']\n",
    "    upgrade_id_str = str(upgrade_id)\n",
    "    # remember to add slot later\n",
    "    print(temp['slot'])\n",
    "    \n",
    "    legendary[upgrade_id_str] = []\n",
    "    for ship in temp['ships']:\n",
    "        ship_id = game[ship]['id']\n",
    "        ship_id_str = str(ship_id)\n",
    "        \n",
    "        # init\n",
    "        if not ship_id_str in ship:\n",
    "            ship_upgrade[ship_id_str] = {\"upgrades\": []}\n",
    "\n",
    "        # you need to the slot as well\n",
    "        ship_upgrade[ship_id_str][\"upgrades\"].append(upgrade_id)\n",
    "        legendary[upgrade_id_str].append({\"ship_id\": ship_id})\n",
    "\n",
    "with open('legendary_upgrade.json', 'w+') as l:\n",
    "    l.write(json.dumps(legendary))\n",
    "with open('ship_legendary_upgrade.json', 'w+') as l:\n",
    "    l.write(json.dumps(ship_upgrade))\n"
   ]
  },
  {
   "cell_type": "code",
   "execution_count": 25,
   "metadata": {},
   "outputs": [
    {
     "output_type": "stream",
     "name": "stdout",
     "text": "--- DONE ---\n"
    },
    {
     "output_type": "execute_result",
     "data": {
      "text/plain": "['PAPA002_Shell_203mm_HE_HC_Mk_25',\n 'PAPA003_Shell_127mm_HE_HC_Mk_36',\n 'PAPA005_Shell_127mm_HE_C_Mk_32',\n 'PAPA007_Shell_356mm_HE_HC_Mk_22',\n 'PAPA008_Shell_127mm_HE_HC_Mk_39',\n 'PAPA010_Shell_406mm_HE_HC_Mk_13',\n 'PAPA015_Shell_406mm_HE_HC_Mk_13',\n 'PAPA017_Shell_152mm_HE_HC_Mk_34',\n 'PAPA018_Main_127mm_HE_C_Mk_32',\n 'PAPA020_Shell_152mm_HE_HC_Mk_34',\n 'PAPA022_Shell_127mm_HE_C_Mk_15',\n 'PAPA024_Shell_76mm_HE_C',\n 'PAPA026_Shell_305mm_HE_C',\n 'PAPA028_Shell_152mm_HE_C_105lbs',\n 'PAPA030_Shell_152mm_HE_HC_Mark_34_Mod_1',\n 'PAPA032_Shell_152mm_HE_C_105lbs',\n 'PAPA034_Shell_102mm_HE_HC_Mk_15',\n 'PAPA036_Shell_356mm_HE_HC_Mk_22',\n 'PAPA038_Shell_203mm_HE_C_260lbs',\n 'PAPA040_Shell_356mm_HE_C_1400lbs',\n 'PAPA041_Shell_76mm_HE_C',\n 'PAPA042_Shell_127_HE_HC_Mk_39',\n 'PAPA044_Main_127mm_HE_C_Mk_32',\n 'PAPA045_Shell_127_HE_HC_Mk_39',\n 'PAPA047_Shell_152mm_HE_HC_Mk_34',\n 'PAPA049_Shell_120_HE_45lbs',\n 'PAPA051_152mm_HE_HC_Mark_39_Mod_0',\n 'PAPA052_356mm_HE_Common_1400lbs',\n 'PAPA056_305mm_HE_HC_Mk8',\n 'PAPA057_305mm_HE_Common_870lbs',\n 'PAPA058_127mm_HE_HC_Mk41',\n 'PAPA060_406mm_HE_HE_Mk_2',\n 'PAPA063_SHELL_356MM_HE_MK_22_ARIZONA',\n 'PAPA065_SHELL_203MM_HE_INDIANAPOLIS',\n 'PAPA067_SHELL_356MM_HE_MK_22_TEXAS',\n 'PAPA069_127MM_HE_FLINT',\n 'PAPA071_127MM_HE_BLACK',\n 'PAPA073_406MM_HE_MISSOURI',\n 'PAPA075_406MM_HE_ALABAMA',\n 'PAPA077_406MM_HE_ALABAMA',\n 'PAPA079_127MM_HE_KIDD',\n 'PAPA081_406MM_HE_MASS',\n 'PAPA082_203MM_HE_SALEM',\n 'PAPA084_Shell_406mm_HE_HC_Mk_13E',\n 'PAPA085_127MM_HE_MONAGHAN',\n 'PAPA087_305MM_HE_ALASKA_MK17M1',\n 'PAPA089_127MM_HE_BOISE',\n 'PAPA091_152MM_HE_BOISE',\n 'PAPA092_203MM_HE_WICHITA',\n 'PAPA094_152MM_HE_CHARLSTON',\n 'PAPA096_406MM_HE_WVIRGINIA',\n 'PAPA098_152MM_HE_MONTPELIER',\n 'PAPA101_127_HE_TST_GEARING',\n 'PAPA102_406_HE_TST_MONTANA',\n 'PAPA104_457MM_HE_GEORGIA_SH',\n 'PAPA107_457MM_HE_GEORGIA_MK1',\n 'PAPA108_127MM_HE_BENHAM',\n 'PAPA111_127MM_HE_HILL',\n 'PAPA112_127mm_HE_SOMERS',\n 'PAPA114_457MM_HE_OHIO_SH',\n 'PAPA116_305MM_HE_P_RICO_MK17M1',\n 'PAPA118_356MM_HE_MK22_CALIFORNIA',\n 'PBPA001_381mm_HE_MkVIII',\n 'PBPA003_152mm_HE_HE4crh',\n 'PBPA004_102mm_HE_HE_35lbs',\n 'PBPA006_102MM_HE_CAMPBELTOWN',\n 'PBPA007_102MM_HE_MG_BS',\n 'PBPA010_152MM_HE_100LBS',\n 'PBPA012_152MM_HE_4CRH',\n 'PBPA014_152MM_HE_6CRH_SC',\n 'PBPA015_152MM_HE_6CRH_MK4',\n 'PBPA018_152MM_HE_MK5',\n 'PBPA019_114MM_HE_MK16',\n 'PBPA020_152MM_HE_BEL',\n 'PBPA023_152MM_HE_MK5_ALT_F',\n 'PBPA025_381MM_HE_HOOD',\n 'PBPA032_343MM_MV_HE_L',\n 'PBPA034_343MM_MV_HE_H',\n 'PBPA049_120MM_QFMIX_HE_G',\n 'PBPA052_381MM_HE_MKVIII_C',\n 'PBPA055_381MM_HE_MKII',\n 'PBPA057_406MM_HE_NELSON',\n 'PBPA058_356MM_HE_DUKE',\n 'PBPA060_120_HE_COSSACK',\n 'PBPA063_102MM_HE_QF_MKIV',\n 'PBPA065_102MM_HE_33LBS',\n 'PBPA067_120MM_HE_62LBS',\n 'PBPA069_114MM_MII_HE_Main',\n 'PBPA070_140MM_HE_BL_MKI',\n 'PBPA071_381MM_HE_VANGUARD',\n 'PBPA073_76MM_HE_MK27M1',\n 'PBPA076_305MM_HE_DREAD',\n 'PBPA078_203MM_HE_EXETER',\n 'PBPA083_234MM_HE_6CRH',\n 'PBPA085_203MM_HE_256LBS',\n 'PBPA088_203MM_HE_LONDON',\n 'PBPA089_190MM_HE_200LBS',\n 'PBPA091_234MM_HE_CHESHIRE',\n 'PCEE141_Huang_he_Flag',\n 'PCPA060_406mm_HE_HE_Mk_2',\n 'PCPA061_406mm_HE_VanHellsing',\n 'PCPA062_105MM_HE_SPRGR',\n 'PFPA002_330MM_HE_D',\n 'PFPA003_130MM_HE_MLE1935',\n 'PFPA014_152MM_55_1930_HE_1936',\n 'PFPA031_138MM_HE_AIGLE',\n 'PFPA047_380MM_HE_GASCOGNE',\n 'PFPA048_380MM_HE_JBART',\n 'PFPA050_139MM_HE_TERRIBLE_1928',\n 'PFPA054_HE_TST_TERRIBLE',\n 'PFPA056_130MM_HE_SIROCCO',\n 'PFPA061_100MM_45_1892_HE_MG',\n 'PFPA062_130MM_MLE1935_HE_MG',\n 'PFPA064_127MM_54_1948_HE_MG',\n 'PFPA069_127MM_HE_MARCEAU',\n 'PGPA002_380mm_HE_HE_L_4_6',\n 'PGPA003_150mm_HE_HE_N_F',\n 'PGPA004_105mm_HE_HE_33lbs',\n 'PGPA006_128MM_HE_SPRGR',\n 'PGPA008_105MM_HE_SPRGR',\n 'PGPA012_88MM_HE_SPR_GR',\n 'PGPA013_88MM_HE_SPR_GR',\n 'PGPA015_105MM_HE_SPR_GR_L3_85',\n 'PGPA021_150MM_HE_SPGR_L4_4_KZ',\n 'PGPA022_150MM_HE_SPR_GR_L4_1_BDZ',\n 'PGPA024_203MM_HE_SPR_GR_L4_7_BDZ',\n 'PGPA027_210MM_HE_SPR_GR_L4_3_BDZ',\n 'PGPA029_105MM_HE_EMDEN',\n 'PGPA033_305MM_HE_SPR_GR_L3_8_BDZ',\n 'PGPA037_380MM_HE_SPR_GR_L4_1_BDZ',\n 'PGPA039_406MM_HE_SPR_GR_L4_4_KZ',\n 'PGPA040_150MM_HE_K_GR_18',\n 'PGPA042_203MM_HE_SPR_GR_L4_7_KZ',\n 'PGPA046_305MM_HE_SPR_GR_L4_8_KZ',\n 'PGPA049_380MM_HE_HE_L_4_6_B',\n 'PGPA053_420MM_HE_HE_L_4_6',\n 'PGPA055_283MM_HE_SCHARNHORST',\n 'PGPA057_283MM_HE_SPR_GR_L3_6',\n 'PGPA058_305MM_HE_SPR_GR_L5',\n 'PGPA059_128MM_HE_SPR_GR_KZ',\n 'PGPA062_305MM_HE_KA',\n 'PGPA064_203MM_HE_P_O',\n 'PGPA066_128MM_HE_SK_C34',\n 'PGPA068_150MM_HE_SPR_GR_L4_6',\n 'PGPA070_105MM_HE_SK_C32',\n 'PGPA072_128MM_HE_C41',\n 'PGPA074_88MM_HE_SK_L45',\n 'PGPA076_283MM_HE_GRAF',\n 'PGPA078_128MM_HE_T61',\n 'PGPA080_150MM_HE_Z39',\n 'PGPA081_350MM_HE_PEFRIEDRICH',\n 'PGPA084_210MM_HE_SPR_GR_L4_3',\n 'PGPA085_105mm_HE_HE_33lbs',\n 'PGPA086_380MM_HE_SIEGFRIED',\n 'PGPA088_150MM_HE_MAINZ',\n 'PGPA091_305MM_HE_L4_9_ODIN',\n 'PGPA092_150MM_HE_SPGR_L4_4_SG',\n 'PGPA094_305MM_HE_L4_9_AEGIR',\n 'PGPA502_170MM_HE_L3',\n 'PHPA001_120_HE_FRIESLAND',\n 'PIPA002_152MM_53_HE_DUCA',\n 'PIPA006_320MM_HE_Model1936',\n 'PIPA007_120MM_HE_ANSALDO1926',\n 'PIPA010_152MM_55_HE_ABRUZZI',\n 'PIPA013_381MM_50_HE_ROMA',\n 'PIPA015_120MM_HE_LEONE',\n 'PIPA019_320MM_HE_GCESARE',\n 'PJPA002_Shell_356mm_HE_C_Type_0',\n 'PJPA004_Shell_127mm_HE_C_Type_0',\n 'PJPA006_Shell_410mm_HE_C_Type_0',\n 'PJPA009_Shell_203mm_HE_C_Type_0',\n 'PJPA010_Shell_120mm_HE_C_Type_0',\n 'PJPA012_Shell_127mm_HE_Type_1',\n 'PJPA014_Shell_140mm_HE_O_Type_0',\n 'PJPA015_127MM_HE_YUKIKAZE',\n 'PJPA018_Shell_460mm_HE_C_Type_0',\n 'PJPA020_Shell_155mm_HE_O_Type_0',\n 'PJPA021_Shell_127mm_HE_New_Type',\n 'PJPA022_Main_140mm_HE_O_Type_0',\n 'PJPA024_Shell_120mm_HE_C_Type_1',\n 'PJPA026_Shell_76mm_HE_O_Mk_2',\n 'PJPA028_Shell_120mm_HE_O_Mk_3',\n 'PJPA029_Shell_120mm_HE_Common',\n 'PJPA031_Shell_305mm_HE_HE',\n 'PJPA032_Shell_305mm_HE_HE',\n 'PJPA034_Shell_200mm_HE_Common_Type_4_Secondary',\n 'PJPA037_Shell_152mm_HE_C_Type_4',\n 'PJPA039_Shell_203mm_HE_C_Type_1',\n 'PJPA040_Shell_100mm_HE_C_Type_98',\n 'PJPA042_Shell_76mm_HE_O_Mk_2',\n 'PJPA044_Shell_127mm_HE_Type_1',\n 'PJPA046_Main_140mm_HE_O_Type_0',\n 'PJPA049_200mm_HE_Common_Type_4',\n 'PJPA051_305mm_HE_HE_Mark_IIa',\n 'PJPA054_410mm_HE_C_Type_0',\n 'PJPA055_Shell_460mm_HE_C_Type_0',\n 'PJPA061_SHELL_305MM_HE_850LBS',\n 'PJPA062_SHELL_152MM_HE_TYPE_0',\n 'PJPA064_100MM_HE_C_TYPE_98_MG',\n 'PJPA065_120MM_HE_KAM',\n 'PJPA066_127MM_HE_SHINO',\n 'PJPA068_410MM_HE_MUTSU',\n 'PJPA070_410MM_HE_ASHITAKA',\n 'PJPA073_127mm_HE_Mk41_Harekaze',\n 'PJPA076_127mm_50_HE_HAREKAZE',\n 'PJPA078_100MM_HE_HAREKAZE',\n 'PJPA079_Shell_410mm_HE_KII',\n 'PJPA082_460MM_HE_MUSASHI',\n 'PJPA084_127_HE_ASASHIO',\n 'PJPA085_152MM_HE_YAHAGI',\n 'PJPA087_310MM_HE_AZUMAYA',\n 'PJPA089_HE_TST_ZAO',\n 'PJPA091_310MM_HE_AZUMAYA',\n 'PJPA093_127MM_HE_YUDACHI',\n 'PJPA095_Shell_155mm_HE_SG_Type_0',\n 'PJPA096_127MM_HE_HAYATE',\n 'PJPA098_76MM_TYPE98_HE_SG',\n 'PJPA099_510MM_HE_SHIKISHIMA',\n 'PJPA101_150MM_55_HE_C28_ARASHI',\n 'PJPA998_Useless_HE_Special',\n 'PRPA002_Shell_152mm_HE_HE_109lbs',\n 'PRPA004_130mm_HE_OF_46',\n 'PRPA007_Shell_152mm_HE_HC_Mark_34_Mod_1',\n 'PRPA008_102MM_HE_1915',\n 'PRPA010_130MM_HE_OF_46_B2U',\n 'PRPA012_85MM_HE_O_365_M',\n 'PRPA014_305_HE_1911',\n 'PRPA016_130_HE_1911',\n 'PRPA018_130MM_HE_OF_46_ORLAN',\n 'PRPA020_130MM_HE_NEPREM',\n 'PRPA025_100MM_HE_F_56',\n 'PRPA026_100MM_HE_P_28',\n 'PRPA027_120MM_HE_P_1907',\n 'PRPA028_130MM_HE_OF_42',\n 'PRPA029_130MM_HE_OF_54',\n 'PRPA030_130_HE_1911_MG',\n 'PRPA031_180_HE_OF_42_S',\n 'PRPA032_180_HE_OF_42_F',\n 'PRPA033_220_HE_OF_23',\n 'PRPA043_152_HE_C',\n 'PRPA044_130_HE_KK',\n 'PRPA046_180_HE_MOLOTOV',\n 'PRPA049_130_HE_P_1917',\n 'PRPA051_HE_LGD',\n 'PRPA053_HE_OLEG',\n 'PRPA054_130MM_HE_OHOTNIK',\n 'PRPA056_130MM_HE_OF_42_SM21',\n 'PRPA059_130MM_HE_OF_46_B13_M',\n 'PRPA060_130MM_HE_OF_46_B2U_M',\n 'PRPA062_130MM_HE_OF54_OLD_GUNS',\n 'PRPA066_88MM_HE_SPR_GR',\n 'PRPA068_150MM_HE_MAKAROV',\n 'PRPA069_305_HE_REV',\n 'PRPA071_120MM_HE_P_1907_50',\n 'PRPA072_356MM_HE_1913',\n 'PRPA074_356MM_HE_1928',\n 'PRPA075_406MM_HE_MOD1914',\n 'PRPA077_152MM_HE_1907',\n 'PRPA083_152_HE_VARYAG',\n 'PRPA087_305MM_HE_KRON',\n 'PRPA088_305MM_HE_STALINGRAD',\n 'PRPA090_152MM_HE_LAZO',\n 'PRPA091_130MM_HE_NEUSTR',\n 'PRPA093_406MM_HE_LENIN',\n 'PRPA096_406MM_HE_B37',\n 'PRPA099_406MM_HE_MOD1914BIS',\n 'PRPA100_130MM_HE_OF_46_B2U_SG',\n 'PRPA101_130MM_HE_SMOLENSK',\n 'PRPA103_356MM_HE_1938_POLTAVA',\n 'PRPA105_406MM_HE_BORODINO',\n 'PRPA107_180MM_HE_BORODINO',\n 'PRPA108_220MM_HE_B43',\n 'PRPA110_152MM_HE_MK2',\n 'PRPA112_180MM_HE_CM_48',\n 'PRPA116_180_HE_OF_42_S_MIKOYAN',\n 'PRPA118_180_HE_BAGRATION',\n 'PRPA120_180_HE_KIROV',\n 'PRPA122_220MM_HE_B44',\n 'PRPA125_180_HE_OF_43_F',\n 'PUPA001_152MM_HE_PERTH',\n 'PUPA003_102MM_HE_31lb',\n 'PUPA005_102MM_HE_VAMPIRE',\n 'PUPA007_120_HE_HAIDA',\n 'PVPA001_127MM_HE_NUEVE',\n 'PVPA003_152MM_HE_NUEVE',\n 'PWPA001_120_HE_BLYSKAWICA',\n 'PWPA003_305MM_HE_VIRIBUS',\n 'PWPA005_150MM_HE_K10',\n 'PWPA006_120_HE_GRYF',\n 'PWPA008_120MM_HE_45_M24',\n 'PWPA010_100MM_HE_47_OTO1931',\n 'PWPA012_120_50_HE_M42',\n 'PWPA014_100MM_HE_50_K11',\n 'PWPA016_120_HE_50_M50',\n 'PWPA018_120MM_HE_SMALAND',\n 'PWPA020_120_HE_50_M36',\n 'PWPA022_120MM_HE_ORKAN',\n 'PXPA001_88MM_HE_HYDE',\n 'PXPA003_283MM_HE_HYDE',\n 'PXPA005_305MM_HE_RASPUTIN',\n 'PXPA007_130MM_HE_RASPUTIN',\n 'PXPA008_76MM_HE_ZEEKASA',\n 'PXPA009_152MM_HE_ZEEKASA',\n 'PXPA010_150MM_HE_TRANS',\n 'PXPA011_76MM_HE_DR_FRANKY',\n 'PXPA013_152MM_HE_DR_FRANKY',\n 'PXPA015_120MM_HE_HELLSINK',\n 'PXPA019_Main_127mm_HE_C_Mk_32',\n 'PXPA020_Shell_203mm_HE_HC_Mk_25',\n 'PXPA021_150mm_HE_HE_N_F',\n 'PXPA024_128MM_HE_C41',\n 'PXPA026_420MM_HE_HE_L_4_6',\n 'PXPA028_130MM_HE_OF_42',\n 'PXPA029_128MM_HE_SPR_GR_KZ',\n 'PXPA031_Main_127mm_HE_C_Mk_32',\n 'PXPA033_220_HE_OF_23',\n 'PXPA035_406MM_HE_SPR_GR_L4_4_KZ',\n 'PXPA039_Shell_203mm_HE_C_Type_1',\n 'PXPA040_Shell_100mm_HE_C_Type_98',\n 'PXPA042_Shell_155mm_HE_O_Type_0',\n 'PXPA044_128MM_HE_SK_C34',\n 'PXPA046_130MM_HE_NEPREM',\n 'PXPA049_Shell_127mm_HE_C_Type_0',\n 'PXPA050_Main_127mm_HE_C_Mk_32',\n 'PXPA052_Shell_406mm_HE_HC_Mk_13E',\n 'PXPA055_Shell_102mm_HE_HC_Mk_15',\n 'PXPA056_Shell_127mm_HE_C_Type_0',\n 'PXPA057_150mm_HE_HE_N_F',\n 'PXPA058_105mm_HE_HE_33lbs',\n 'PXPA059_380MM_HE_HE_L_4_6_B',\n 'PXPA065_Main_127mm_HE_C_Mk_32',\n 'PXPA066_Main_127mm_HE_C_Mk_32',\n 'PXPA067_Main_127mm_HE_C_Mk_32',\n 'PXPA068_Main_127mm_HE_C_Mk_32',\n 'PXPA070_203MM_HE_SPR_GR_L4_7_KZ',\n 'PXPA071_105mm_HE_HE_33lbs',\n 'PXPA077_305MM_HE_ALASKA_H2019',\n 'PZES406_HUANG_HE_NY',\n 'PZPA001_130_HE_ANSHAN',\n 'PZPA003_127_HE_LO_YANG',\n 'PZPA005_120_HE_BL_I',\n 'PZPA007_127_HE_MK_38',\n 'PZPA009_120_HE_QF_MK_IX',\n 'PZPA011_102MM_HE_QF_MKIV',\n 'PZPA013_127_HE_MK_7',\n 'PZPA016_105MM_HE_SPRGR',\n 'PZPA017_127_HE_TYPE89',\n 'PZPA025_130MM_HE_SILIWANGI',\n 'PZPA027_410mm_HE_IZUMO_CN',\n 'PZPA029_203MM_HE_MARTEL_CN']"
     },
     "metadata": {},
     "execution_count": 25
    }
   ],
   "source": [
    "findKey('_HE_', keys)"
   ]
  },
  {
   "cell_type": "code",
   "execution_count": 26,
   "metadata": {},
   "outputs": [],
   "source": [
    "writeToJson(game['PJPA012_Shell_127mm_HE_Type_1'], 'shime_he.json')"
   ]
  },
  {
   "cell_type": "code",
   "execution_count": 27,
   "metadata": {},
   "outputs": [
    {
     "output_type": "execute_result",
     "data": {
      "text/plain": "{'barrelDiametr': 0,\n 'costCR': 0,\n 'costXP': 0,\n 'damage': [0, 0, 0],\n 'defense': 0,\n 'detection': 0,\n 'durability': 0,\n 'id': 3769609584,\n 'index': 'PUUA501',\n 'mobility': 0,\n 'name': 'PUUA501_C6_ART_PERTH',\n 'typeinfo': {'nation': 'Commonwealth',\n  'species': 'ArtilleryUnit',\n  'type': 'Unit'},\n 'ucType': '_Artillery',\n 'weaponry': 0}"
     },
     "metadata": {},
     "execution_count": 27
    }
   ],
   "source": [
    "game['PUUA501_C6_ART_PERTH']"
   ]
  },
  {
   "cell_type": "code",
   "execution_count": null,
   "metadata": {},
   "outputs": [],
   "source": []
  }
 ],
 "metadata": {
  "kernelspec": {
   "display_name": "Python 3",
   "language": "python",
   "name": "python3"
  },
  "language_info": {
   "codemirror_mode": {
    "name": "ipython",
    "version": 3
   },
   "file_extension": ".py",
   "mimetype": "text/x-python",
   "name": "python",
   "nbconvert_exporter": "python",
   "pygments_lexer": "ipython3",
   "version": "3.7.2-final"
  }
 },
 "nbformat": 4,
 "nbformat_minor": 2
}