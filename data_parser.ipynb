{
 "cells": [
  {
   "cell_type": "code",
   "execution_count": null,
   "metadata": {},
   "outputs": [],
   "source": [
    "import json\n",
    ""
   ]
  },
  {
   "cell_type": "code",
   "execution_count": null,
   "metadata": {
    "tags": [
     "outputPrepend"
    ]
   },
   "outputs": [],
   "source": [
    "# load everything from json, at least 2GB of ram is needed for this\n",
    "game = {}\n",
    "# all keys inside game params\n",
    "keys = {}\n",
    "with open('tools/GameParams.json', 'r') as j:\n",
    "    game = json.load(j)\n",
    "    keys = game.keys()\n",
    "    # just to make sure something is printed and everything are read\n",
    "    print(len(keys))\n",
    "\n",
    "ships = {}\n",
    "with open('tools/ship_all.json', 'r') as j:\n",
    "    ships = json.load(j)\n",
    "    print(len(ships))\n",
    ""
   ]
  },
  {
   "cell_type": "code",
   "execution_count": null,
   "metadata": {
    "scrolled": true
   },
   "outputs": [],
   "source": [
    "# write json object to disk\n",
    "def writeToJson(json_dict, name):\n",
    "    with open(name, 'w+') as l:\n",
    "        l.write(json.dumps(json_dict))"
   ]
  },
  {
   "cell_type": "code",
   "execution_count": null,
   "metadata": {},
   "outputs": [],
   "source": [
    "# find keys in object, can be improved to go deep\n",
    "def findKey(name, keys):\n",
    "    temp = []\n",
    "    for key in keys:\n",
    "        if name.lower() in key.lower():\n",
    "            temp.append(key)\n",
    "    return temp"
   ]
  },
  {
   "cell_type": "code",
   "execution_count": 39,
   "metadata": {},
   "outputs": [],
   "source": [
    "# find the first object from the dict\n",
    "def findFirstObject(name, dic, rootMode=False):\n",
    "    if isinstance(dic, dict):\n",
    "        for key in dic.keys():\n",
    "            temp = dic[key]\n",
    "            # check if this is the object we want\n",
    "            if name == key:\n",
    "                if rootMode is True:\n",
    "                    return dic\n",
    "                else:\n",
    "                    return temp\n",
    "            result = findFirstObject(name, temp, rootMode)\n",
    "            if result != None:\n",
    "                return result\n",
    "    elif isinstance(dic, list):\n",
    "        # go through the list\n",
    "        for value in dic:\n",
    "            result = findFirstObject(name, value, rootMode)\n",
    "            if result != None:\n",
    "                return result"
   ]
  },
  {
   "cell_type": "code",
   "execution_count": null,
   "metadata": {
    "tags": [
     "outputPrepend"
    ]
   },
   "outputs": [],
   "source": [
    "# Find unique update and their ship\n",
    "unique_upgrades = findKey('Special_Mod', keys)\n",
    "# this adds ship id to legendary upgrade\n",
    "legendary = {}\n",
    "# this add legendary upgrades to ship\n",
    "ship_upgrade = {}\n",
    "# get their id and the ship they belong to\n",
    "for upgrade in unique_upgrades:\n",
    "    temp = game[upgrade]\n",
    "    upgrade_id = temp['id']\n",
    "    upgrade_id_str = str(upgrade_id)\n",
    "    # remember to add slot later\n",
    "    slot = temp['slot']\n",
    "    \n",
    "    legendary[upgrade_id_str] = []\n",
    "    for ship in temp['ships']:\n",
    "        ship_id = game[ship]['id']\n",
    "        ship_id_str = str(ship_id)\n",
    "        \n",
    "        # init\n",
    "        if not ship_id_str in ship:\n",
    "            ship_upgrade[ship_id_str] = {\"legendary_upgrades\": []}\n",
    "\n",
    "        # you need to the slot as well\n",
    "        ship_upgrade[ship_id_str][\"legendary_upgrades\"].append({\"upgrade_id\": upgrade_id_str, \"slot\": slot})\n",
    "        legendary[upgrade_id_str].append({\"ship_id\": ship_id, \"slot\": slot})\n",
    "\n",
    "writeToJson(legendary, 'legendary_upgrade.json')\n",
    "writeToJson(ship_upgrade, 'ship_legendary_upgrade.json')\n"
   ]
  },
  {
   "cell_type": "code",
   "execution_count": null,
   "metadata": {},
   "outputs": [],
   "source": [
    "findKey('venezia', keys)"
   ]
  },
  {
   "cell_type": "code",
   "execution_count": null,
   "metadata": {},
   "outputs": [],
   "source": [
    "writeToJson(game['PISC110_Venezia'], 'venezia.json')"
   ]
  },
  {
   "cell_type": "code",
   "execution_count": null,
   "metadata": {},
   "outputs": [],
   "source": [
    "game['PCEM004_Halloween19_10lvl']"
   ]
  },
  {
   "cell_type": "code",
   "execution_count": 40,
   "metadata": {},
   "outputs": [],
   "source": [
    "def retrieveDataFromShip(ship):\n",
    "    temp = {}\n",
    "    # extract permo flages\n",
    "    permoflages = ship['permoflages'].copy()\n",
    "    nativePermoflage = ship['nativePermoflage']\n",
    "    permoflages.append(nativePermoflage)\n",
    "    # we need to get all permoflage_id\n",
    "    permo_ids = []\n",
    "    for permo in permoflages:\n",
    "        if permo != '':\n",
    "            permo_ids.append(game[permo]['id'])\n",
    "    # add it to temp\n",
    "    temp['permoflages'] = permo_ids\n",
    "\n",
    "    # extract HE penetration\n",
    "    artillery = findFirstObject('HitLocationArtillery', ship, rootMode=True)\n",
    "    if artillery != None:\n",
    "        ammoList = artillery['ammoList']\n",
    "        he = [x for x in ammoList if '_HE' in x]\n",
    "        # some ships doesn't have HE\n",
    "        if len(he) > 0:\n",
    "            # add it to temp\n",
    "            temp['alphaPiercingHE'] = game[he[0]]['alphaPiercingHE']\n",
    "\n",
    "    # get sigma\n",
    "    sigma = findFirstObject('ammoPool', ship, rootMode=True)\n",
    "    if sigma != None:\n",
    "        temp['sigma'] = sigma['sigmaCount']\n",
    "        print(ship['name'])\n",
    "        print(temp['sigma'])\n",
    "    return temp"
   ]
  },
  {
   "cell_type": "code",
   "execution_count": 41,
   "metadata": {
    "tags": [
     "outputPrepend",
     "outputPrepend",
     "outputPrepend",
     "outputPrepend",
     "outputPrepend",
     "outputPrepend",
     "outputPrepend",
     "outputPrepend"
    ]
   },
   "outputs": [
    {
     "output_type": "stream",
     "name": "stdout",
     "text": "PASC510_Alaska\n2.05\nPJSB510_Shikishima\n1.0\nPZSB509_Izumo_Bajie\n1.0\nPASC599_Black_Alaska\n2.05\nPRSC910_Pr_66_Moskva\n2.05\nPRSC525_Kirov\n1.0\nPRSC610_Smolensk\n2.0\nPWSD510_Friesland\n2.0\nPJSD998_Arashi\n2.0\nPJSC934_Zao_1944\n1.0\nPJSC520_Yoshino\n1.0\nPJSB509_Musashi\n1.8\nPASC707_Flint\n1.7\nPBSA518_Ark_Royal\n1.0\nPRSB518_Lenin\n1.7\nPRSC513_Varyag\n2.0\nPJSC709_Haguro\n1.0\nPJSD706_Shinonome\n2.0\nPJSC727_Blue_Dragon\n1.0\nPBSD517_Cossack\n2.0\nPRSC528_Ochakov\n2.0\nPJSB918_Yamato_1944\n1.0\nPJSC598_Black_Atago\n1.0\nPBSC516_London\n1.0\nPFSB518_Jean_Bart\n1.0\nPGSD508_Z_39\n2.0\nPGSC706_HSF_Graf_Spee\n1.9\nPJSA518_Kaga\n1.0\nPJSD912_Shimakaze_1943\n2.0\nPBSB910_Conqueror\n1.9\nPASB705_Texas_1944\n1.8\nPRSC606_Admiral_Makarov\n2.0\nPJSC708_ARP_Takao\n1.0\nPASB510_Ohio\n1.0\nPGSB598_Black_Tirpitz\n1.0\nPJSD518_Asashio\n2.0\nPRSC509_Kronshtadt\n2.05\nPWSD910_Lappland\n2.0\nPJSD510_Hayate\n2.0\nPJSC707_Ashigara\n1.0\nPASB509_Missouri\n1.9\nPGSA598_Black_Graf_Zeppelin\n1.0\nPJSC737_Nachi\n1.0\nPISD510_Paolo_Emilio\n2.0\nPJSB706_Kirishima\n1.0\nPJSC510_Azumaya\n1.0\nPJSD718_AZUR_Yukikaze\n2.0\nPISB805_TST_CESARE\n1.9\nPRSB528_Borodino\n1.0\nPWSD508_Orkan\n1.0\nPJSC705_Myoko\n1.0\nPASC710_Salem\n2.05\nPASA528_Saipan\nNone\nPASD709_Black\n2.0\nPRSC538_Petr_Bagration\n1.0\nPFSC810_Henri_IV\n2.05\nPGSC509_Siegfried\n1.0\nPASB518_Massachusetts\n1.7\nPASC718_AZUR_Montpelier\n2.15\nPGSA518_Graf_Zeppelin\n1.0\nPFSD508_Le_Terrible\n2.0\nPGSC910_Hindenburg\n1.0\nPRSB510_Slava\n1.9\nPJSB708_Hiei_Arpeggio\n1.0\nPASB707_California\n1.0\nPFSC510_Colbert\n2.0\nPWSD610_Smaland\n2.0\nPASC597_Nueve_de_Julio_1951\n2.0\nPRSC510_Stalingrad\n2.65\nPRSC520_Stalingrad\n2.25\nPGSB597_Black_Scharnhorst\n1.0\nPASD510_Somers\n2.0\nPJSB707_Haruna\n1.0\nPJSB705_Kongou\n1.0\nPASA518_Enterprise\n1.0\nPFSB510_Bourgogne\n1.8\nPASD913_Gearing_1945\n2.0\nPJSC717_Yellow_Dragon\n1.0\nPASC610_Puerto_Rico\n1.0\nPGSB910_Grossdeutschland\n1.8\nPRSC518_Lazo\n2.0\nPASD597_Black_Sims\n2.0\nPASB598_Black_Massachusetts\n1.7\nPJSD598_Black_Asashio\n2.0\nPASB917_Montana_1945\n1.0\nPZSD508_LoYang\n2.0\nPGSC519_Aegir\n1.0\nPBSB527_Duke_of_York\n1.8\nPISC607_Gorizia\n2.0\nPFSD808_TST_TERRIBLE\n2.0\nPASB708_Alabama\n1.9\nPASB729_Georgia\n1.0\nPBSB517_Nelson\n1.9\nPZSC518_Martel_Wukong\n1.0\nPGSC518_Mainz\n2.0\nPBSB510_Thunderer\n1.0\nPASD509_Benham\n2.0\nPRSD709_Pr_41_Neustrashimy\n2.0\nPRSD910_Grozovoy_pr_40N\n2.0\nPJSD708_HSF_Harekaze\n2.0\nPASD505_Hill\n2.0\nPBSD506_Gallant\n2.0\nPZSD506_Anshan\n2.0\nPRSC508_Kutuzov_1952\n2.0\nPRSC210_Pr_84_Alexander_Nevsky\n1.0\nPRSD205_Podvoisky_pr_1929\n2.0\nPWSD501_Blyskawica\n2.0\nPJSD209_Yugumo\n2.0\nPJSD507_Yudachi\n2.0\nPFSD110_Kleber\n2.0\nPBSC507_Belfast_1959\n2.0\nPBSC206_Devonshire\n2.0\nPRSB508_Poltava\n1.0\nPRSC209_Riga\n1.0\nPJSC505_Yahagi\n2.0\nPJSD210_Harugumo\n2.0\nPJSC503_Katori\n2.0\nPASC508_Wichita\n1.0\nPBSD110_Daring\n2.0\nPBSC205_Hawkins\n2.0\nPGSD110_Z_52\n2.0\nPZSC506_Huang_he\n2.0\nPRSD507_Leningrad_1944\n2.0\nPRSC208_Tallin\n1.0\nPWSB504_Viribus_Unitis\n1.0\nPJSB508_Kii\n1.7\nPASC507_Indianapolis_1945\n2.0\nPBSC207_Surrey\n2.0\nPBSD503_Campbeltown_1941\n2.0\nPBSC508_Cheshire\n1.0\nPGSD506_T_61\n2.0\nPASC503_Charleston\n1.0\nPISB505_Giulio_Cesare\n1.9\nPJSD208_Kagero\n2.0\nPBSB503_Dreadnought\n1.8\nPISB508_Roma\n1.8\nPGSC506_Admiral_Graf_Spee\n1.9\nPASC207_Helena\n2.0\nPRSD505_Okhotnik_1917\n2.0\nPJSD207_Shiratsuyu\n2.0\nPUSD507_Haida\n2.0\nPBSA508_Indomitable\n1.0\nPGSB506_Prinz_Eithel_Friedrich\n1.0\nPJSD206_Hatsuharu\n2.0\nPBSC505_Exeter\n2.0\nPJSB506_Mutsu\n1.8\nPUSC506_Perth_1942\n2.0\nPJSB507_Ashitaka\n1.8\nPBSA210_Audacious\n1.0\nPZSD208_Siliwangi_1959\n2.0\nPISD506_Leone\n2.0\nPISC506_DucadAosta\n2.0\nPFSC508_Bayard\n1.0\nPRSD206_Pr_7\n2.0\nPASD502_Smith\n2.0\nPRSC506_Molotov_1943\n2.0\nPJSD219_Kitakaze\n2.0\nPFSD506_Aigle\n2.0\nPGSC508_Prinz_Eugen\n2.0\nPASC206_Dallas\n2.0\nPBSB507_Hood\n1.9\nPFSD210_Marceau\n2.0\nPGSB508_Odin\n1.0\nPRSD308_Pr_48\n2.0\nPRSC505_KrasniKrym\n2.1\nPRSB505_Oktyabrskaya_Revolutsiya\n1.8\nPASB508_Alabama\n1.9\nPFSC506_De_Grasse\n2.0\nPWSD110_Halland\n2.0\nPVSC507_Nueve_de_Julio_1951\n2.0\nPASC209_Seattle\n2.05\nPGSB503_Koenig_Albert\n1.8\nPFSB506_Dunkerque_1940\n1.7\nPUSD503_Vampire\n2.0\nPRSD210_Grozovoy_pr_40N\n2.0\nPRSC503_Oleg\n2.0\nPASC210_Worcester\n2.05\nPRSC310_Petropavlovsk\n1.0\nPASD508_Kidd\n2.0\nPASB506_Arizona_1941\n1.8\nPFSB508_Gascogne\n1.9\nPBSC210_Goliath\n1.0\nPBSA204_Hermes\n1.0\nPRSD208_Pr_30\n2.0\nPASC208_Cleveland\n2.0\nPBSC209_Drake\n2.05\nPZSD110_Hsiang_Yang\n2.0\nPBSB508_Vanguard\n2.0\nPRSD207_Minsk\n2.0\nPISC505_Genova\n1.0\nPISC507_Duca_degli_Abruzzi\n2.0\nPFSD504_Siroco\n2.0\nPASB507_West_Virginia\n1.8\nPBSC208_Albemarle\n1.0\nPZSC508_Irian\n2.05\nPGSC502_Emden_1908\n2.0\nPGSB507_Scharnhorst\n1.0\nPASD506_Monaghan\n2.0\nPRSD409_Pr_20i_Tashkent\n2.0\nPRSD110_Pr_24_Khabarovsk\n2.0\nPFSB105_Bretagne\n1.8\nPBSD106_Icarus\n2.0\nPZSD109_Chung_Mu\n2.0\nPRSC110_Pr_66_Moskva\n2.05\nPRSC106_Pr_94_Budeny\n2.0\nPWSD109_Ostergotland\n2.0\nPJSD107_Akatsuki\n2.0\nPJSD105_Mutsuki\n2.0\nPASC109_Buffalo\n2.05\nPBSA108_Implacable\n1.0\nPRSB110_Sovetskaya_Rossiya\n1.8\nPASC108_Baltimore_1944\n2.0\nPBSD105_Acasta\n2.0\nPBSC109_Neptune\n2.05\nPRSD107_Pr_35_Udaloy\n2.0\nPBSC110_Minotaur\n2.05\nPFSD108_Le_Fantasque\n2.0\nPBSC108_Edinburgh\n2.0\nPGSD107_Leberecht_Maass\n2.0\nPGSD109_Z_46\n2.0\nPJSA110_Hakuryu\n1.0\nPASC106_Pensacola_1944\n2.0\nPBSB105_Iron_Duke\n1.0\nPBSC107_Fiji\n2.0\nPGSC105_Konigsberg\n2.0\nPGSD108_Z_23\n2.0\nPJSD108_Akizuki\n2.0\nPBSA106_Furious\n1.0\nPFSD106_Guepard\n2.0\nPBSC106_Leander\n2.0\nPGSB105_Koenig\n1.8\nPFSD105_Jaguar\n2.0\nPFSC110_Henri_IV\n2.05\nPBSC105_Emerald\n2.0\nPBSB110_Conqueror\n1.8\nPGSD106_Ernst_Gaede\n2.0\nPZSD107_Gadjah_Mada\n2.0\nPISC105_Raimondo_Montecuccoli\n1.0\nPRSC108_Pr_68_Chapaev\n2.0\nPRSC109_Dmitry_Donskoy\n2.05\nPJSA108_Shokaku\n1.0\nPFSC109_Saint_Louis\n2.05\nPBSB109_Lion\n1.8\nPGSD105_T_22\n2.0\nPGSC110_Hindenburg\n1.0\nPISC109_Brindisi\n1.0\nPISC108_Amalfi\n1.0\nPRSC107_Schors\n2.0\nPWSD108_Oland\n2.0\nPISC106_Trento\n1.0\nPFSC108_Charles_Martel\n2.0\nPBSB108_Monarch\n1.8\nPFSB106_Normandie\n1.6\nPFSB109_Alsace\n1.6\nPGSD104_V_170\n2.0\nPJSA106_Ryujo\n1.0\nPFSC107_Algerie\n2.0\nPASC107_New_Orlean_1944\n2.0\nPBSB107_King_George_V\n1.8\nPFSD109_Mogador\n2.0\nPGSC108_Hipper\n2.0\nPRSC105_Kirov\n2.0\nPWSD106_Vasteras\n2.0\nPJSD106_Fubuki\n2.0\nPGSC107_Yorck\n2.0\nPFSC106_La_Galissonniere\n2.0\nPWSD107_Skane\n2.0\nPFSB107_Lyon\n1.5\nPRSB109_Sovetsky_Soyuz\n1.7\nPWSD105_Visby\n2.0\nPGSC109_Roon\n2.05\nPFSC105_Emile_Bertin\n2.0\nPGSC106_Nurnberg\n2.0\nPFSB110_France\n2.0\nPRSB108_Vladivostok\n1.6\nPWSD104_Klas_Horn\n2.0\nPGSB110_Grossdeutschland\n1.8\nPISC107_Zara\n1.0\nPRSB107_Sinop\n1.5\nPASA110_Midway\n1.0\nPFSB108_Richelieu\n1.8\nPBSD109_Jutland\n2.0\nPGSB109_Friedrich_der_Grosse\n1.8\nPZSD106_Fu_Shun\n2.0\nPRSB106_Izmail\n1.6\nPBSD108_Lightning\n2.0\nPZSD108_Hsien_Yang\n2.0\nPGSB108_Bismarck\n1.8\nPZSD105_Jian_Wei\n2.0\nPBSB106_Queen_Elizabeth\n2.0\nPGSB106_Bayern\n1.8\nPRSB105_Pyotr_Velikiy\n1.7\nPISC110_Venezia\n2.05\nPFSD107_Vauquelin\n2.0\nPASA106_Ranger\n1.0\nPBSD107_Jervis\n2.0\nPGSB107_Gneisenau\n1.8\nPZSD104_Shen_Yang\n2.0\nPASA108_Lexington\n1.0\nPRSD104_Izyaslav\n2.0\nPJSC009_Mogami_1935\n2.0\nPZSD103_Phra_Ruang\n2.0\nPASC024_Phoenix_1917\n2.0\nPRSC102_Novik\n2.0\nPRSC104_Svetlana\n2.0\nPJSD026_Camo_Kamikaze\n2.0\nPJSC004_Yubari_1944\n1.0\nPJSD003_Isokaze_1917\n2.0\nPJSC008_Myoko_1945\n1.0\nPJSB013_Amagi_1942\n1.8\nPASB018_Iowa_1944\n1.0\nPBSD103_Valkyrie\n2.0\nPFSB104_Courbet\n1.8\nPASC020_Des_Moines_1948\n1.0\nPRSB103_Knyaz_Suvorov\n1.5\nPWSC101_Gryf\n2.0\nPJSC007_Aoba_1943\n2.0\nPASC044_Marblehead_1924\n2.0\nPASB017_Montana_1945\n1.0\nPBSD104_Wakeful\n2.0\nPJSD025_True_Kamikaze\n2.0\nPISC101_Eritrea\n2.0\nPJSB021_Izumo_1938\n2.0\nPJSB007_Kongo_1942\n1.0\nPJSD017_Kamikaze_1930\n2.0\nPJSC038_Atago_1944\n1.0\nPJSB011_Mikasa_1905\n1.0\nPBSC102_Weymouth\n2.0\nPGSD103_G_101\n2.0\nPJSA104_Hosho\n1.0\nPJSC005_Furutaka_1926\n2.0\nPJSC037_Hashidate_1940\n2.0\nPBSB103_Bellerophon\n1.8\nPBSD102_Medea\n2.0\nPGSC104_Karlsruhe\n2.0\nPASD008_Benson_1945\n2.0\nPGSB104_Kaiser\n1.8\nPJSD014_Tachibana_1912_Asus\n2.0\nPJSC035_Chikuma_1912\n2.0\nPJSB008_Ishizuchi_1921\n1.0\nPASB013_Arkansas_1912\n1.0\nPJSB010_Nagato_1944\n2.0\nPRSD103_Derzky\n2.0\nPJSC034_Zao_1944\n1.0\nPZSD102_Long_Jiang\n2.0\nPASB012_North_Carolina_1945\n2.0\nPJSC012_Ibuki_1944\n1.0\nPBSC104_Danae\n2.0\nPISC103_Taranto\n2.0\nPJSD012_Shimakaze_1943\n2.0\nPASC006_Atlanta_1942\n1.7\nPASD027_Wickes_1918\n2.0\nPBSC103_Caledon\n2.0\nPRSC010_Diana_1905_Asus\n1.0\nPFSD104_Bourrasque\n2.0\nPWSD103_Romulus\n2.0\nPASC045_Marblehead_1924_Asus\n2.0\nPFSD102_Enseigne_Gabolde\n2.0\nPGSC103_Kolberg\n2.0\nPJSC015_Tatsuta_1919\n2.0\nPASC004_St_Louis_1906\n1.8\nPASB006_New_York_1934\n1.8\nPBSC101_Black_Swan\n2.0\nPGSD102_V_25\n2.0\nPFSC103_Friant\n2.0\nPWSD102_Tatra\n2.0\nPFSD103_Fusilier\n2.0\nPGSB103_Nassau\n1.8\nPASD014_Leader_1919\n2.0\nPASC003_Albany_1898\n1.0\nPASB008_Colorado_1945\n2.0\nPASD029_Sims_1941\n2.0\nPASA104_Langley\n1.0\nPFSB103_Turenne\n1.0\nPJSC013_Kuma_1938\n2.0\nPISC104_Alberto_da_Giussano\n1.0\nPRSC103_Bogatyr\n2.0\nPJSB006_Fuso_1943\n1.5\nPJSD024_Wakatake_1923\n2.0\nPASD013_Gearing_1945\n2.0\nPJSB018_Yamato_1944\n1.0\nPASC005_Omaha_1923\n2.0\nPASD005_Farragut_1944\n2.0\nPASD019_Clemson_1920\n2.0\nPRSC101_Orlan\n2.0\nPFSC102_Jurien\n2.0\nPBSB104_Orion\n1.6\nPASD006_Mahan_1936\n2.0\nPISC102_Nino_Bixio\n2.0\nPJSC026_Iwaki_1944\n2.0\nPFSC104_Duguay_Trouin\n2.0\nPASB004_Arkansas_1912\n1.5\nPFSC101_Bougainville\n2.0\nPASB034_New_Mexico_1941\n1.5\nPZSC101_Cheng_An\n2.0\nPASD021_Fletcher_1943\n2.0\nPRSD102_SM_Storojevoy\n2.0\nPRSC003_Murmansk_1944\n2.0\nPRSB104_Gangut\n1.4\nPJSD004_Minekadze_1920\n2.0\nPASD002_Sampson_1917\n2.0\nPASB001_Michigan_1916\n1.9\nPJSD001_Tachibana_1912\n2.0\nPBSB002_Warspite_1941\n1.0\nPASC002_Chester_1908\n2.0\nPASC001_Erie_1936\n2.0\nPGSC001_Hermelin_1940\n2.0\nPGSC002_Drezden_1908\n2.0\nPJSD002_Umikaze_1925\n2.0\nPRSC002_Diana_1905\n1.0\nPRSD001_Gremyashchy_1942\n2.0\nPRSC001_Avrora_1917\n2.0\nPRSB001_Nikolay_I\n1.0\nPJSB001_Kawachi_1912\n1.8\nPJSB003_Myogi_1912\n2.0\nPGSB002_Tirpiz_1942\n1.0\n"
    }
   ],
   "source": [
    "# loop through all ship \n",
    "additional_ship_info = {}\n",
    "for ship in ships:\n",
    "    ship_str = ships[ship]['ship_id_str']\n",
    "    # it should only has one\n",
    "    additional_ship_info[ship] = retrieveDataFromShip(game[findKey(ship_str, keys)[0]])\n",
    "writeToJson(additional_ship_info, 'ship_additional.json')\n",
    ""
   ]
  },
  {
   "cell_type": "code",
   "execution_count": null,
   "metadata": {},
   "outputs": [],
   "source": []
  }
 ],
 "metadata": {
  "kernelspec": {
   "display_name": "Python 3",
   "language": "python",
   "name": "python3"
  },
  "language_info": {
   "codemirror_mode": {
    "name": "ipython",
    "version": 3
   },
   "file_extension": ".py",
   "mimetype": "text/x-python",
   "name": "python",
   "nbconvert_exporter": "python",
   "pygments_lexer": "ipython3",
   "version": "3.7.2-final"
  }
 },
 "nbformat": 4,
 "nbformat_minor": 2
}